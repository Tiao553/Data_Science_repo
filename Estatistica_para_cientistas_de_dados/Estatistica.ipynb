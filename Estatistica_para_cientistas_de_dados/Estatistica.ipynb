{
  "nbformat": 4,
  "nbformat_minor": 0,
  "metadata": {
    "colab": {
      "name": "Estatistica",
      "provenance": [],
      "toc_visible": true,
      "authorship_tag": "ABX9TyO7D85gK6Z58d1OKv9Juq0/",
      "include_colab_link": true
    },
    "kernelspec": {
      "name": "python3",
      "display_name": "Python 3"
    }
  },
  "cells": [
    {
      "cell_type": "markdown",
      "metadata": {
        "id": "view-in-github",
        "colab_type": "text"
      },
      "source": [
        "<a href=\"https://colab.research.google.com/github/Tiao553/Projects_Data_Science/blob/main/Estatistica.ipynb\" target=\"_parent\"><img src=\"https://colab.research.google.com/assets/colab-badge.svg\" alt=\"Open In Colab\"/></a>"
      ]
    },
    {
      "cell_type": "markdown",
      "metadata": {
        "id": "iXmWUTV0PqEV"
      },
      "source": [
        "<center><img   src=\"https://raw.githubusercontent.com/Tiao553/Projects_Data_Science/main/img/ESTA_PROB.png\"></center>\r\n",
        "\r\n",
        "*by [Sebastião Ferreira de Paula Neto](https://github.com/Tiao553)*"
      ]
    },
    {
      "cell_type": "markdown",
      "metadata": {
        "id": "qL90gT3yN-5a"
      },
      "source": [
        "# Referências bibliograficas\r\n",
        "\r\n",
        "1. MONTGOMERY, Douglas C.; RUNGER, George C.. **Estatística aplicada e probabilidade para engenheiros.**\r\n",
        "5 ed. Rio de Janeiro: LTC, 2013.\r\n",
        "\r\n",
        "2. MAGALHÃES, Marcos Nascimento; LIMA, Antonio Carlos Pedroso de. **Noções de probabilidade e estatística.** 7 ed. São Paulo: Edusp, 2010.\r\n",
        "\r\n",
        "3. MORETTIN, Pedro Alberto; BUSSAB, Wilton de Oliveira. **Estatística básica**. 6 ed. rev. e atual. São Paulo: Saraiva, 2010."
      ]
    },
    {
      "cell_type": "markdown",
      "metadata": {
        "id": "DGdHy_ztT_rM"
      },
      "source": [
        "---\r\n",
        "# **Estatística e Probabilidade para cientistas de dados**\r\n",
        "\r\n",
        "Um cientista é aquele que **sempre questiona** e tenta gerar conclusões em cima destes questionamentos. Se alinharmos dados a esta característica possa  concluir que estes profissionais gerar conclusões em cima de dados. Está aí uma primeira conclusão!\r\n",
        "\r\n",
        "Uma das suas principais ferramentas é a estatística e a probabilidade, mas você o que seria estas duas?\r\n",
        "\r\n",
        "\r\n",
        "\r\n",
        "> **Estatística** é a ciência que se utiliza nas teorias probabilísticas para explicar a **frequência da ocorrência de eventos**, tanto em estudos observacionais quanto em experimentos para **modelar a aleatoriedade e a incerteza** de forma a estimar ou possibilitar a previsão de fenômenos futuros.\r\n",
        "\r\n",
        "> **Probabilidade** é o **estudo sobre experimentos** que, mesmo realizados em condições bastante parecidas, apresentam resultados que **não são possíveis de prever.**\r\n",
        "\r\n",
        "Se analisarmos a definição de maneira direta ja consiguimos ver o poder dessas duas ferramentas, mas caso isso não tenha ficado claro vamos exemplificar em alguns exemplos de aplicações ao qual os cientistas de dados utilizam:\r\n",
        "\r\n",
        "1. Projetar e interpretar experimentos para suportar a tomada de decisões.\r\n",
        "2. Construir modelos que possam prever sinal, não ruído.\r\n",
        "3. Entender o engajamento, a retenção, a conversão e os leads dos usuários.\r\n",
        "4. Contar a história com os dados, inclusive ja sugiro este seguinte livro para uso, compra no [link](https://amzn.to/2MSLhtf).\r\n",
        "\r\n",
        "**Neste notebook, iremos demonstrar formas como utilizar a estatéstica e a probabilidade para gerar melhores conclusões sobre os fenômenos analisados.**\r\n",
        "\r\n",
        "**Vale ressaltar que este notebook também é basicamente um bloco de anotações**\r\n"
      ]
    },
    {
      "cell_type": "markdown",
      "metadata": {
        "id": "W3O1s90ck8Fb"
      },
      "source": [
        "---\r\n",
        "# Metodologia\r\n",
        "\r\n",
        "Primeiramente não é desejado nenhum conhecimento prévio. **Para melhor entendimento deste notebook** ele segue como bloco de anotação com algumas informações a mais do curso da [Khan Academy](https://pt.khanacademy.org/math/statistics-probability). Em conjunto segue informações reduzidas da referência bibliografica, onde nelas estão contidas informações de cálculo que não é o objetivo neste notebook. No entanto as informações conclusivas deles serão trnaspassadas aqui.\r\n",
        "\r\n",
        "Onde seguiremos **a seguinte cronológia:**\r\n",
        "* **Capítulo 1:** Variaveis;\r\n",
        "* **Capítulo 2:** Métricas para dados quantitativos;\r\n",
        "* **Capítulo 3**: Modelagem de distribuição de Dados;\r\n",
        "* **Capítulo 4:** Como explorar dados numéricos bivariados;\r\n",
        "* **Capítulo 5:** Modelos de Estudo;\r\n",
        "* **Capítulo 6:** Probabilidade;\r\n",
        "* **Capítulo 7:** Variaveis aleatórias;\r\n",
        "* **Capítulo 8:** Distribuição de Amostragem;\r\n",
        "* **Capítulo 9:** Intervalo de confiança;\r\n",
        "* **Capítulo 10:** Testes de significância (teste de hipótese);\r\n",
        "* **Capítulo 11:**Inferência para dados categóricos (testes qui-quadrado);\r\n",
        "* **Capítulo 12:** Inferência de duas amostras para a diferença entre grupos;\r\n",
        "* **Capítulo 13:** Regressão Avançada;\r\n",
        "* **Capítulo 14:** Análise de variância;"
      ]
    },
    {
      "cell_type": "markdown",
      "metadata": {
        "id": "T3q-Iup5lC5U"
      },
      "source": [
        "---\r\n",
        "# **Capítulo 1: Variaveis**\r\n",
        "Uma variável  é **uma característica que admite diferentes valores** (um valor ou uma classificação). E elas são divididas em duas vertentes:\r\n",
        "\r\n",
        "<center><img width=\"86%\"  src=\"https://raw.githubusercontent.com/Tiao553/Projects_Data_Science/main/img/Variaveis.png\"></center>\r\n",
        "\r\n",
        "Neste primeiro capítulo vamos abordar as variaveis qualitativas, em seguida vamos abordar as variaveis quantitativas continuas e por fim as discretas.\r\n"
      ]
    },
    {
      "cell_type": "markdown",
      "metadata": {
        "id": "41gr1mV377uk"
      },
      "source": [
        "## Variáveis qualitativas\r\n",
        "São variáveis que desejam formar grupos de forma qualitativa e é **contável o número de variáveis.** Importância de identificar o individuo em estudo, pois indica o qual variável deve ser seu foco no estudo. Em muito dos casos é utilizada **separar os dados em dada classificação.** Para análises numéricas é feita uma conversão desta em variáveis *Dummy* onde quantifica seja em forma ordinal ou sacrificatória de acordo com a distribuição das classificações.\r\n",
        "\r\n"
      ]
    },
    {
      "cell_type": "markdown",
      "metadata": {
        "id": "D5LPCJKHlRzE"
      },
      "source": [
        "---\r\n",
        "# **Capítulo 2: Métricas para dados quantitativos**\r\n",
        "Aqui se inicia a estatística onde vamos dividi-la **em descritiva** que corresponde a forma de **informar os dados sem mostra-los** por meio de valores. Como também a **estatística inferencial** que vamos **discorrer os dados pela sua distribuição.**\r\n",
        "\r\n",
        "Para isso precisamos mostrar as principais metricas para strabalhar com variaveis númeiricas contínuas:\r\n",
        "*  Média;\r\n",
        "*  Intervalo, Variância e Desvio Padrão de uma população;\r\n",
        "*  Intervalo, Variância e Desvio Padrão de uma amostra;\r\n",
        "\r\n",
        "*  Diagrama de caixas (BOXPLOT);"
      ]
    },
    {
      "cell_type": "markdown",
      "metadata": {
        "id": "fKgNBNAU28xl"
      },
      "source": [
        "## Média\r\n",
        "Como significado podemos entende-la por meio de uma tendência central e ela pode ser **aritmética** (“soma de todos fatores e dividir pelo número de elementos”) e também a **Mediana**(“valor médio”).\r\n",
        "$$\r\n",
        "    \\upsilon = \\dfrac{1}{n}\\cdot \\sum_{i=1}^{n}{x_i}{}\r\n",
        "$$\r\n",
        "Quando trabalhamos com média um  grnade cuidado que devemos ter é a presença dos outliers (*valores destoantes dos outros*) **é mais eficiente usar a mediana como referência** pois demonstra a media de forma mais correta. Uma vez que os **outliers irão levar a média aritmética a um valor muito maior.**\r\n",
        "\r\n",
        "#**Como determinamos os outliers em um conjuto de dados?**\r\n",
        "Primeiramente é de grande relevância identificar o intervalo entre quartil. Por meio desse intervalo você terá já uma ideia se há ou não outliers. Mas sendo mais criterioso, vamos despor um método para melhor avalição que consiste em:\r\n",
        "*\tIdentificar o valor do intervalo entre quartil (FIQ), onde $FIQ = Q_3 - Q_1$.\r\n",
        "*\tOs outliers inferiores serão aqueles que $Outliers < Q_{1} - 1.5\\cdot FIQ$ ;\r\n",
        "*\tOs outliers superiores serão aqueles que  $Outliers> Q_{3} + 1.5\\cdot FIQ$ ;\r\n",
        "\r\n",
        "Onde os valores de $Q_1$ e $Q_3$ são referentes aos percetis de 25% e 75% . \r\n",
        "\r\n"
      ]
    },
    {
      "cell_type": "markdown",
      "metadata": {
        "id": "inSmVAmLXXLs"
      },
      "source": [
        "### Mediana e percetis\r\n",
        "A **mediana** é o valor que se encontra ao meio da indexação dos dados ordenados. E isso é importante pois caso os dados tenham outliers ele não se altera. Ou seja, **ele é robusto a outlier**s e é um bom indicador. \r\n",
        "\r\n",
        "Os **Quartis** basicamente são as **medianas da mediana**. Sendo assim se o valor da mediana corresponde ao valor de 50% os **Quartis** são os valores correspondentes a 25% e 75% contando o da mediana também, tendo assim $Q_1 , Q_2$ e  $Q_3$. O **percenti** basicamente seria os dados dividos $n$ vezes."
      ]
    },
    {
      "cell_type": "markdown",
      "metadata": {
        "id": "c5lbPPJ73UmD"
      },
      "source": [
        "## Diagrama de caixas (BOXPLOT)\r\n",
        "\r\n",
        "Uma boa aplicação de mediana e quartil são os diagramas de caixas. **As pontas do gráfico** são os menores valores encontrados no conjunto de dados e **as pontas da caixa** são os percentis de 25% e 75%. Dessa forma é como podemos detalhar de forma simples e direta como é disposto um BOXPLOT.\r\n",
        "\r\n",
        "Como exemplo:"
      ]
    },
    {
      "cell_type": "code",
      "metadata": {
        "colab": {
          "base_uri": "https://localhost:8080/",
          "height": 143
        },
        "cellView": "form",
        "id": "Jz_QORwO3GGl",
        "outputId": "da3bccdb-1221-42ad-f577-d8ebde225753"
      },
      "source": [
        "#@title Com uso do python geramos um exemplo de boxplot\r\n",
        "import seaborn as sns\r\n",
        "import matplotlib.pyplot as plt\r\n",
        "import pandas as pd\r\n",
        "\r\n",
        "#   Inicio os dados de forma aleatoria\r\n",
        "Conjunto_de_dados = [1,1,2,8,10,11,14,15,2,22,3,3,4,4,6,7,20]\r\n",
        "\r\n",
        "#   Passo para o formato para gerar o bloxplot\r\n",
        "X = pd.Series(Conjunto_de_dados)\r\n",
        "\r\n",
        "plt.figure(figsize=(8,1.5))\r\n",
        "sns.boxplot(x=X, palette=\"viridis\")\r\n",
        "plt.xlabel('Valores gerado')\r\n",
        "plt.show()"
      ],
      "execution_count": null,
      "outputs": [
        {
          "output_type": "display_data",
          "data": {
            "image/png": "[encoded data removed]",
            "text/plain": [
              "<Figure size 576x108 with 1 Axes>"
            ]
          },
          "metadata": {
            "tags": [],
            "needs_background": "light"
          }
        }
      ]
    },
    {
      "cell_type": "markdown",
      "metadata": {
        "id": "QY5Q3qwT5vXX"
      },
      "source": [
        "**Deixo uma reflexão sobre este gráfico: Ele contém algum outlier? justifique**"
      ]
    },
    {
      "cell_type": "markdown",
      "metadata": {
        "id": "MFjHQbUL3Bsz"
      },
      "source": [
        "## Intervalo, Variância e Desvio Padrão de uma população\r\n",
        "O **Intervalo** é todo espaçoa amostral al qual os dados estão dispostos. Ele é importante pois com ele é possivel medir o qual o disperso estão os dados. Para isso utilizamos a **variância** e o **desvio padrão**.\r\n",
        "\r\n",
        "### **Variância populacional**\r\n",
        "A variância é um indicador do quanto os dados estão dispersos, a equação utilizada se encontra abaixo: \r\n",
        "$$\r\n",
        "\\sigma ^2 = \\frac{1}{n}\\sum_{i=1}^{n}(x_i -\\upsilon) ^ 2\r\n",
        "$$\r\n",
        "\r\n",
        "### Desvio padrão populacional\r\n",
        "O desvio padrão mensura a dispersão dos dados, para isso basta calcularmos:\r\n",
        "$$\r\n",
        "\\sigma = \\sqrt{\\sigma ^ 2}\r\n",
        "$$\r\n",
        "\r\n",
        "Para entendermos de forma mais direta, temos o seguite gráfico onde estes apresentam a mesma média, mas variam o seu desvio padrão.\r\n",
        "\r\n",
        "<center><img src=\"https://upload.wikimedia.org/wikipedia/commons/thumb/f/f9/Comparison_standard_deviations.svg/400px-Comparison_standard_deviations.svg.png\"></center>"
      ]
    },
    {
      "cell_type": "markdown",
      "metadata": {
        "id": "RTGWxnQB3MAD"
      },
      "source": [
        "## Intervalo, Variância e Desvio Padrão de uma amostra\r\n",
        "**Vocês devem estar: \" *Mas o que iria variar de um caso populacioal para um amostral?* \"** \r\n",
        "\r\n",
        "Antes de entrarmos neste assunto é de eximia importância entender o que seria uma amostra. Para entendermos uma amostra basta pegarmos um dado com milhões e milhões de dados, quando se fala em amostra é pegar uma parte do todo e tentar acharmos valores contidos no todo de forma a tentar representar o todo.\r\n",
        "\r\n",
        "No caso amostral, que é o mais usado, pois este representa de forma mais correta o modelo e converge na maioria dos casos aos valores. As formulas iram se alterar assim como a ideia.\r\n",
        "\r\n",
        "**Ficou confuso? Vamos a um exemplo:**\r\n",
        "\r\n",
        "> Em uma pesquisa realizada foram perguntadas quantas horas por dia os entrevistados assistiam televisão, dessa forma temos:\r\n",
        "\r\n",
        "<center><img width = \"70%\"src=\"https://raw.githubusercontent.com/Tiao553/Projects_Data_Science/main/img/TV.png\"></center>\r\n",
        "\r\n",
        "Mas você poderia olhar e pensar: “*Mas esta amostra não representa o todo*”.\r\n",
        "\r\n",
        "**Você não está errado**, mas é preciso tomarmos alguns cuidados quando avaliamos desta forma. No entanto vamos mostrar como realizar estes cálculos de maneira correta.\r\n",
        "\r\n",
        "Inicialmente, vamos tomar a variância amostral com o numero de termos reduzido em 1 casa de forma a tentar aproximar do valor real, assim temos:\r\n",
        "\r\n",
        "$$\\sigma^2 = S^2 = \\frac{1}{n-1}\\sum_{i=1}^{n}(x_i - \\overline{x}) ^ 2$$\r\n",
        "\r\n",
        "Onde o $\\overline{x}$ representa a média aritímetica dos dados e $S^2$ a variancia amostral. O desvio padrão como ele é não linear para o calculo do valor populacional não se atua desta forma, logo ele se acopla muito aos dados se tornando viciado logo não é adequado aí usamos a variância como estimador.\r\n",
        "\r\n",
        "\r\n",
        "\r\n",
        "\r\n",
        "\r\n"
      ]
    },
    {
      "cell_type": "markdown",
      "metadata": {
        "id": "hLY4zPhVaa85"
      },
      "source": [
        "### **Mas porque utilizar $n-1$ ?**\r\n",
        "\r\n",
        "Existem algumas formas de explicar, mas acredito que uma que você vizualize possa ajudar de forma mais concreta. Para isso irei pedir que vocÊ acessa a seguinte simulação [Link](http://www.khanacademy.org/cs/unbiased-variance-visualization/1167453164).\r\n",
        "\r\n",
        "Neste caso ele mostra como a variaci se comporta quando se vai adicionando dados para o caso com $n$, $n-1$ e $n-2$. Outra análise contida nessa simulação é para identificar se o dado estar viciado ou superamostrado. \r\n",
        "\r\n",
        "\r\n",
        "Para se identificar isso é nessário verificar o grafico de média por variância. No caso com $n$ ele tem uma apresentação viciada, para o caso $n-1$ ele se apresenta representante ao modelo da distribuição e para o caso $n-2$ ele é mostrado como superamostrado.\r\n",
        "\r\n",
        "\r\n",
        "Como atividade peço para fazer essas análise para a smiulação contida no [Link](http://www.khanacademy.org/cs/challenge-unbiased-estimate-of-population-variance/1169428428). Como também um exercício interativo para visualizar as diferenças entre as relações **populacional Vs amostral**.\r\n",
        "\r\n"
      ]
    },
    {
      "cell_type": "code",
      "metadata": {
        "id": "zIE_cQTqyaGm",
        "cellView": "form"
      },
      "source": [
        "#@title Entre com os dados\r\n",
        "\r\n",
        "a = []\r\n",
        "print(\"Caso deseje encerrar a entrada de dados aperte n; \")\r\n",
        "print(\"para resetar a entrada aperte R\")\r\n",
        "k = input(\"Entre: \")\r\n",
        "\r\n",
        "while True:\r\n",
        "  if ((k == 'n') or (k == 'N')):\r\n",
        "    break\r\n",
        "\r\n",
        "  elif ((k == 'R') or (k == 'r')):\r\n",
        "    a = []\r\n",
        "\r\n",
        "  else:\r\n",
        "    a.append(float(k))\r\n",
        "\r\n",
        "  k = input(\"Entre: \")\r\n",
        "  \r\n",
        "print(f\"A lista de entrada: {a}\")"
      ],
      "execution_count": null,
      "outputs": []
    },
    {
      "cell_type": "code",
      "metadata": {
        "id": "1cfMpfO2s1vV",
        "cellView": "form"
      },
      "source": [
        "#@title Calculando a media Aritimética, Variância e Desvio padrão\r\n",
        "#   Iniciamos um conjunto de dados e uma variavel de apoio\r\n",
        "size = len(a)\r\n",
        "\r\n",
        "#calcular a média aritimetica\r\n",
        "u = sum(a)/(size)\r\n",
        "print(\"Média: \" , u)\r\n",
        "\r\n",
        "#   Calulamos o desvio padrão por meio da formula resumida\r\n",
        "h=0\r\n",
        "for i in a:\r\n",
        "  h += (i-u)**2 \r\n",
        "\r\n",
        "std_p = (h/(size))**0.5\r\n",
        "sig_p = (h/(size))\r\n",
        "print(f\"\\nVariância populacional: {sig_p} \")\r\n",
        "print(f\"STD populacional: {std_p} \")\r\n",
        "\r\n",
        "std_a = (h/(size-1))**0.5\r\n",
        "sig_a = (h/(size-1))\r\n",
        "print(f\"\\nVariância amostral: {sig_a} \")\r\n",
        "print(f\"STD amostral: {std_a} \")"
      ],
      "execution_count": null,
      "outputs": []
    },
    {
      "cell_type": "code",
      "metadata": {
        "id": "cGwWo8jAANNs",
        "cellView": "form"
      },
      "source": [
        "#@title Agora verifique o valor direto da biblioteca utilizada nos trabalhos com Data Science\r\n",
        "import pandas as pd\r\n",
        "x = pd.Series(a)\r\n",
        "print(f\"valor do STD no pandas: {x.std()}\")"
      ],
      "execution_count": null,
      "outputs": []
    },
    {
      "cell_type": "markdown",
      "metadata": {
        "id": "pnczj7B33c_T"
      },
      "source": [
        "**Pode-se observar que por meio da biblioteca utiliza na ciência de dados o desvio padrão tomado para uso é o amostral.**"
      ]
    },
    {
      "cell_type": "markdown",
      "metadata": {
        "id": "WjNqh6VAldWN"
      },
      "source": [
        "---\r\n",
        "# **Capítulo 3: Modelagem de distribuição de Dados**\r\n",
        "\r\n",
        "Neste estágio vamos mostrar uma das **formas ativas** de se trabalhar com as metricas estatisticas para variaveis quantitativas contínuas.\r\n",
        "\r\n",
        "Para isso vamos demostrar a **distribuição gaussiana ou normal** que é uma das mais usadas pelo fato da sua alta aplicabilidade.\r\n",
        "\r\n",
        "Dessa forma, antes de começarmos, precisamos identificar dois tópicos:\r\n",
        "\r\n"
      ]
    },
    {
      "cell_type": "markdown",
      "metadata": {
        "id": "p1Ou38JNf07I"
      },
      "source": [
        "## Índice Z\r\n",
        "\r\n",
        "O índice basicamente é uma indexação inteira de cada passo, tanto para esquerda(negativamente) quanto para direita(positivamente), do desvio padrão centrado à média. e para calcularmos esse índice usamos a seguinte fórmula:\r\n",
        "$$\r\n",
        "    Z = \\dfrac{x-\\mu}{\\sigma}\r\n",
        "  \r\n",
        "$$\r\n",
        "\r\n",
        "Onde $x$ é o ponto aonde deseja encontra o valor de $Z$, $\\mu$ é a média aritímetica e $\\sigma$ o desvio padrão."
      ]
    },
    {
      "cell_type": "markdown",
      "metadata": {
        "id": "1L7zqgvBfxlp"
      },
      "source": [
        "## Curvas de Densidade\r\n",
        "As curvas de densidade descrevem o padrão geral de uma distribuição. A área sob a curva e acima de qualquer intervalo de valores é a proporção de todas as observações que se enquadram naquele intervalo. **Uma forma de analisar é como uma formação de histogramas milimétricos que avaliam em uma pequena porcentagem de valores.** Para identificar o valor em porcentagem total de eventos basta realizar o cálculo da área proposta.\r\n",
        "\r\n",
        "<center><img width = \"70%\"src=\"https://raw.githubusercontent.com/Tiao553/Projects_Data_Science/main/img/Curvas_de_densidade.png\"></center>\r\n",
        "\r\n",
        "A **mediana** em curvas de densidade é quando se **encontra a divisão das áreas igualmente** na curva. Já a **média** precisamos fazer uma a**valição ponderada dado os valores em x.**\r\n",
        "\r\n",
        "\r\n"
      ]
    },
    {
      "cell_type": "markdown",
      "metadata": {
        "id": "_GTaF7uihvth"
      },
      "source": [
        "## Distribuição normal\r\n",
        "Em probabilidade e estatística, a distribuição normal é uma das distribuições de probabilidade mais utilizadas para modelar fenômenos naturais. Isso se deve ao fato de que um grande número de fenômenos naturais apresenta sua distribuição de probabilidade **tão proximamente normal, que a ela pode ser com sucesso referida, e, portanto, com adequado acerto por ela representada como se normal fosse.** A distribuição normal é ligada a vários conceitos matemáticos como movimento browniano, ruído branco, entre outros. Como representação temos um formato de um sino enão necessariamente precisa ser centrada em $0$.\r\n",
        "\r\n",
        "<center><img width = \"45%\"src=\"https://upload.wikimedia.org/wikipedia/commons/thumb/7/74/Normal_Distribution_PDF.svg/435px-Normal_Distribution_PDF.svg.png\"></center>\r\n",
        "\r\n",
        "As formas empíricas é forma como os dados são dispostos **garantido que para qualquer valor seja da média ou desvio padrão a distribuição normal nos garante**. Onde o índice $Z$ com um passo $\\sigma =\t\\pm 1$ encontramos 68% dos dados, $\\sigma =\t\\pm 2$  pega 95% porcento dos dados e $\\sigma =\t\\pm 3$ pega 99,7% dos dados. Para exemplificar melhor adicionamos a seguinte imagem abaixo: \r\n",
        "\r\n",
        "<center><img width = \"40%\"src=\"https://upload.wikimedia.org/wikipedia/commons/thumb/1/1a/Boxplot_vs_PDF.svg/330px-Boxplot_vs_PDF.svg.png\"></center>"
      ]
    },
    {
      "cell_type": "markdown",
      "metadata": {
        "id": "BfhSu4O_jyax"
      },
      "source": [
        "### **Mas como utilizar a distribuição normal?**\r\n",
        "\r\n",
        "A aplicação fica contida por meio de uma tabela, já que o comportamento é constante os valores de Z também. Assim paraca cada valor de $Z$ é possível identificar a porcentagem contida na área da distribuição normal.\r\n",
        "\r\n",
        "A tabela completa para distribuição normal padrão encontra-se no [Link](http://wiki.icmc.usp.br/images/f/f9/Tabela_Normal.pdf).\r\n",
        "\r\n",
        "# **Mas afinal, Como utilizar?**\r\n",
        "\r\n",
        "1. Primeiramente você deve encontrar ou ser informado os valores de $\\mu$ e de $\\sigma$ que **são os valores da média e desvio padrão** respectivamente.\r\n",
        "2. Encontra o índice $Z$.\r\n",
        "3. localizar na tabela a **porcentagem da area **do valor de Z.\r\n",
        "4. Para fins de calculos **toda área equivale a 1.**\r\n",
        "\r\n"
      ]
    },
    {
      "cell_type": "markdown",
      "metadata": {
        "id": "tmNW_nwGqYCE"
      },
      "source": [
        "\r\n",
        "\r\n",
        "**Não entendeu?** \r\n",
        "\r\n",
        "Vamos supor que o valor de $Z$ seja $1,13$  o valor da porcentagem encontra-se destacado na imagem abaixo:\r\n",
        "\r\n",
        "<center><img width = \"50%\"src=\"https://estatistica.b-cdn.net/wp-content/uploads/brizy/11/assets/images/iW=1170&iH=1339&oX=0&oY=0&cW=1170&cH=1339/distribui%C3%A7%C3%A3o_normal.png\"></center>\r\n",
        "\r\n",
        "\r\n",
        "> Vamos a um exemplo:"
      ]
    },
    {
      "cell_type": "code",
      "metadata": {
        "id": "v9RpV9q9pJds",
        "cellView": "form"
      },
      "source": [
        "#@title Entre com os valores de média e desvio padrão:\r\n",
        "M = float(input('Entre com o valor da média: '))\r\n",
        "DP = float(input('Entre com o valor do desvio padrão: '))"
      ],
      "execution_count": null,
      "outputs": []
    },
    {
      "cell_type": "code",
      "metadata": {
        "id": "3zgROxByplzU",
        "cellView": "form"
      },
      "source": [
        "#@title Calculando o valor de Z\r\n",
        "X = float(input('Qual o ponto em destaque para encontrar o valor em %: '))\r\n",
        "z = (X-M)/DP\r\n",
        "print(f'O valor de Z: {z}')"
      ],
      "execution_count": null,
      "outputs": []
    },
    {
      "cell_type": "code",
      "metadata": {
        "id": "99Xbem4lrgC9",
        "cellView": "form"
      },
      "source": [
        "#@title Plotando a curva da normal dado o Z requesitado\r\n",
        "\r\n",
        "# Importações para gerar o gráfico\r\n",
        "import numpy as np\r\n",
        "import matplotlib.pyplot as plt\r\n",
        "from scipy.stats import norm\r\n",
        "\r\n",
        "#   Inicializando os limites do plot\r\n",
        "#   Vale resaltar que o X deve ser em relação ao desvio padrão\r\n",
        "x = np.arange(-10.001, z, 0.001)\r\n",
        "x_all = np.arange(-10, 10, 0.001)\r\n",
        "\r\n",
        "y = norm.pdf(x,0,1)\r\n",
        "y2 = norm.pdf(x_all,0,1)\r\n",
        "\r\n",
        "#   Plotando\r\n",
        "fig, ax = plt.subplots(figsize=(9,6))\r\n",
        "plt.style.use('seaborn')\r\n",
        "ax.plot(x_all,y2)\r\n",
        "\r\n",
        "ax.fill_between(x,y,0, alpha=0.6, color='black')\r\n",
        "ax.fill_between(x_all,y2,0, alpha=0.1)\r\n",
        "ax.set_xlim([-5,5])\r\n",
        "ax.set_xlabel('Passos do desvio padrão')\r\n",
        "ax.set_yticklabels([])\r\n",
        "ax.set_title('Curva da distribuição normal')\r\n",
        "plt.show()\r\n",
        "\r\n",
        "\r\n"
      ],
      "execution_count": null,
      "outputs": []
    },
    {
      "cell_type": "code",
      "metadata": {
        "id": "rM76BP-7NFFx",
        "cellView": "form"
      },
      "source": [
        "#@title Plot avançado\r\n",
        "#   Importações\r\n",
        "from random import seed,randint,random\r\n",
        "import numpy as np\r\n",
        "import matplotlib.pyplot as plt\r\n",
        "import seaborn as sns\r\n",
        "import math\r\n",
        "\r\n",
        "#   Iniciando a função da distribuição normal\r\n",
        "L_inf = int(M - (DP*5))\r\n",
        "L_sup = int(M + (DP*5))\r\n",
        "x = np.linspace(L_inf,L_sup,1000)\r\n",
        "f = (1.0/(DP*np.sqrt(2.0*math.pi)))*np.exp(-0.5*((x-M)/DP)**2.0)\r\n",
        "\r\n",
        "#   indentifcando a area a ser colorida\r\n",
        "x_color = []\r\n",
        "for i in x:\r\n",
        "  if int(i) == int(X):\r\n",
        "    break\r\n",
        "  x_color.append(i)\r\n",
        "x_color = np.asarray(x_color)\r\n",
        "f_color = (1.0/(DP*np.sqrt(2.0*math.pi)))*np.exp(-0.5*((x_color-M)/DP)**2.0)\r\n",
        "\r\n",
        "\r\n",
        "#   Plotagem\r\n",
        "plt.figure(figsize=(9,6))\r\n",
        "plt.style.use('seaborn')\r\n",
        "plt.plot(x,f,label=r'$\\sigma$='+str(DP))\r\n",
        "plt.fill_between(x_color,f_color,0, alpha=0.5, color='b')\r\n",
        "plt.xlabel('x')\r\n",
        "plt.ylabel('f(x)')\r\n",
        "plt.show()\r\n"
      ],
      "execution_count": null,
      "outputs": []
    },
    {
      "cell_type": "markdown",
      "metadata": {
        "id": "TfEfPUZYyqFd"
      },
      "source": [
        "**A area destacada é a porcentagem encontrada na tabela.**"
      ]
    },
    {
      "cell_type": "markdown",
      "metadata": {
        "id": "rxVSwcHtlmXU"
      },
      "source": [
        "---\r\n",
        "# **Capítulo 4: Como explorar dados numéricos bivariados**\r\n",
        "Bivariado é a forma de dizer uma relação entre duas variáveis **com objetivo a ver o padrão por meio da dispersão, tendencia e regressão.**\r\n",
        "\r\n",
        "\r\n"
      ]
    },
    {
      "cell_type": "markdown",
      "metadata": {
        "id": "0VAYyzjJeM-o"
      },
      "source": [
        "## **Introdução aos diagramas de dispersão**\r\n",
        "\r\n",
        "Um diagrama de dispersão é um tipo de exibição de dados que mostra a relação entre duas variáveis numéricas. Cada item do conjunto de dados é plotado como um ponto cujas coordenadas $(x,y)$ aonde estão relacionadas com seus valores para as duas variáveis. Para estes gráficos **devemos (1) analisar há alguma relação entre os pontos ou tendencia, (2) tipo de associação e (3) discrepância.** \r\n",
        "\r\n",
        "No exemplo abaixo temos uma análise de tendência e exemplificação dos gráficos de: \r\n",
        "\r\n",
        "<center><img width = \"80%\"src=\"http://vidadeproduto.com.br/wp-content/uploads/2020/09/nivel-correlacao.png\"></center>\r\n",
        "\r\n",
        "\r\n"
      ]
    },
    {
      "cell_type": "markdown",
      "metadata": {
        "id": "QnR1lDnWrQpa"
      },
      "source": [
        "### O que são associação em diagramas de dispersão?\r\n",
        "Quando observamos um diagrama de dispersão, devemos ser capazes de descrever a associação que vemos entre as variáveis. Dessa maneira precisamos descrever uma breve descrição da associação em um diagrama de dispersão classficando-os em forma, direção e força da associação, juntamente com a presença de qualquer outlier.\r\n",
        "*\t**Forma:** a associação é linear ou não linear?\r\n",
        "**  Para identificar esse conceito é preciso ter noção de algebra linear, mas tome como um conceito inicial e nao geral que **linear** seja uma formação de uma reta.\r\n",
        "*\t**Direção:** a associação é positiva ou negativa?\r\n",
        "**  Para associação **positiva** temos direcionamento crescente e negativo como decrescente.\r\n",
        "*\t**Força:** a associação parece ser forte, moderadamente forte ou fraca?\r\n",
        "**  Toma-se como **fraca**como os dados muitos disperço como mostrado no gáfico acima e **forte** dados agrupados formulando alguma tendêcia.\r\n",
        "*\t**Outliers:** parece haver algum dado que está excepcionalmente longe do padrão geral?\r\n",
        "\r\n",
        "Também é importante levar em conta o contexto das duas variáveis na descrição de suas características.\r\n"
      ]
    },
    {
      "cell_type": "markdown",
      "metadata": {
        "id": "A72IOZestRnj"
      },
      "source": [
        "## **Correlação**\r\n",
        "Geralmente vemos padrões ou relações em diagramas de dispersão. **Dizemos que econtra-se como correlação  dependência ou associação é qualquer relação estatística entre duas variáveis.** \r\n",
        "\r\n",
        "Para indicamos a qualidade de um modelo utilizamos o coeficiente de correlação, que é um **ótimo indicador**. O direcionamento do modelo também é indicado pelo coéficiente, onde este é indicado pelo sinal referente. O coeficiente pode ser calculado seguindo a seguinte regra:\r\n",
        "\r\n",
        "### Regra populacional\r\n",
        "$$\r\n",
        "r = \\frac{1}{n-1}\\sum_{i=1}^{n}(\\frac{x_i - \\mu_x}{\\sigma_x})\\cdot (\\dfrac{y_i - \\mu_y}{\\sigma_y})\r\n",
        "$$\r\n",
        "\r\n",
        "### Regra amostral\r\n",
        "\r\n",
        "$$\r\n",
        "r = \\frac{1}{n\\cdot S_x \\cdot S_y}\\sum_{i=1}^{n}x_i\\cdot y_i - n\\cdot\\overline{x}\\cdot\\overline{y}\r\n",
        "$$\r\n",
        "\r\n",
        "# **Propiedades para os valores de $r$**\r\n",
        "\r\n",
        "1. Valores de $r$ ficam entre $-1 < r < 1$;\r\n",
        "2. $r$ nos extremos significam correlação perfeita e mudando apenas o sentido;\r\n",
        "3. Tecnicas de escalonamento não altera os valores de $r$;\r\n",
        "4. Não fucionam para casos não lineares;\r\n",
        "\r\n",
        "> Para casos não lineares aconcelho buscar **Coeficiente de correlação $\\eta$ (ETA)**, **Correlação de postos de Kendall** e **Correlação de postos de Spearman**.\r\n"
      ]
    },
    {
      "cell_type": "markdown",
      "metadata": {
        "id": "miEZI7D_zC0i"
      },
      "source": [
        "**Quando trabalhos com dados bivariados é de grande importância analisar a regressão formada nestes. Por meio da regressão é possivel trabalhar com tendencia e até mesmo uma predição. Desta forma vamos escolher trabalhar neste notebook coma regreção de minimos quadrados onde consiguimos abordar muitos conceitos e demonostrar de forma ativa esta ferramenta.**"
      ]
    },
    {
      "cell_type": "markdown",
      "metadata": {
        "id": "hhuTT3FpzjxS"
      },
      "source": [
        "## **Regressão de mínimos quadrados**\r\n",
        "Um modelo que tem-se como regressão este estuda a relação entre duas variaveis quaisquer, no caso **modelo bivariados.** Para o caso de regressão linear este toma a característica de reta, como proposto anteriormente. Além disso, como estamos com minimos quadrados temos que levar em consideração alguns pontos.\r\n",
        "\r\n",
        "* Etá contido no modelo o fator imprevisível (erro) **seja distribuído aleatoriamente e essa distribuição seja normal.**\r\n",
        "* Como estamos trabalhando com modelo linear e este precisa ser imprescindivelmente **linear nos parâmetros**, ou seja, **as variáveis apresentam uma relação linear entre si.**\r\n",
        "\r\n",
        "Quando tratamos de mínimos quadrado vale ressaltar que esse modelo é **robusto ao ruido.** Já que procura encontrar o melhor ajuste para um conjunto de dados tentando minimizar a soma dos quadrados das diferenças entre o valor estimado e os dados observados (tais diferenças são chamadas resíduos).\r\n",
        "\r\n"
      ]
    },
    {
      "cell_type": "markdown",
      "metadata": {
        "id": "LBF3jGlZOaKB"
      },
      "source": [
        "### Modelo da regressão\r\n",
        "Podemos dispor o modelo relacionado os dois eixos da seguinte maneira:\r\n",
        "$$\r\n",
        "      y = mx + b + \\mu \r\n",
        "$$\r\n",
        "\r\n",
        "* $b$ é o ponto onde a regressão corta o eixo $y$;\r\n",
        "* $\\mu$ é o fator imprevisível(ou erro ou ruído);\r\n",
        "* $m$ é coéficiente de inclinação;\r\n",
        "\r\n",
        "Tome um certo conjunto de dados. Pode-se gerar a seguinte retae vamos ter o somatorio dos erros ao quadrado da seguinte forma:\r\n",
        "\r\n",
        "<center><img width = \"32%\"src=\"https://raw.githubusercontent.com/Tiao553/Projects_Data_Science/main/img/Residuo.png\"></center>\r\n",
        "\r\n",
        "Para corrigir o modelo gerados vamos trabalhar com uma tecnica que chama derivação das estimativas dos coéficientes de forma a obter o melhor modelo para as condições propostas."
      ]
    },
    {
      "cell_type": "markdown",
      "metadata": {
        "id": "DzcfKigLRL7f"
      },
      "source": [
        "### Determinando os coeficientes\r\n",
        "Vamos supor que tenhamos $n$ pontos contidos nos dados, para calcularmos o erro dos pontos gerados no modelo vamos trabalhar com erro quadrado que se dispõe da seguinte maneira:\r\n",
        "\r\n",
        "$$\r\n",
        "    R^2 = \\sum_{i=1}^{n}(y_i- y )^2\r\n",
        "$$\r\n",
        "\r\n",
        "Onde $y$ é o valor gerado pelo modelo, e considerando que o modelo foi disposto como a seguinte equação temos a seguite disposição do erro:\r\n",
        "\r\n",
        "<center><img width = \"65%\"src=\"https://raw.githubusercontent.com/Tiao553/Projects_Data_Science/main/img/determinacao.png\"></center>\r\n",
        "\r\n",
        "Poupando os cálculos, aplicando tecnicas de derivação parcial e manipulação da equação iremos chegar nos seguintes coeficientes para o modelo:\r\n",
        "\r\n",
        "$$\r\n",
        "m = \\frac{\\sum_{i=1}^{n}(x_i - \\overline{x})\\cdot(y_i - \\overline{y})}{\\sum_{i=1}^{n}(x_i - \\overline{x})^2} \r\n",
        "$$\r\n",
        "\r\n",
        "Encontrado o valor de $m$ e temos o seguinte valor de $b$:\r\n",
        "\r\n",
        "$$\r\n",
        "    b = \\overline{y} - m\\cdot\\overline{x} - \\mu\r\n",
        "$$\r\n",
        "\r\n"
      ]
    },
    {
      "cell_type": "markdown",
      "metadata": {
        "id": "PUzdDyTzWDBH"
      },
      "source": [
        "### Avaliando os dados \r\n",
        "\r\n",
        "Embora tenhamos uma forma otimizada por meio do método do mínimos quadrados, ainda é ncessário avaliar os dados e os erros que podem ser gerados pela sua disperssão ou pelo fator aleátorio. Essa parte pode ser considerada como validação de uso do modelo. Para isso contamos com algumas ferramentas como:\r\n",
        "\r\n",
        "* Coeficiente de determinação;\r\n",
        "* RMSE(Erro médio quadrado);\r\n",
        "* Indicador de covariância;\r\n",
        "\r\n",
        "#### **Coeficiente de determinação**\r\n",
        "Este é representado pela seguinte equação:\r\n",
        "$$\r\n",
        "r^2 = 1 - \\frac{\\sum_{i=1}^{n}(y_n - y)^2}{\\sum_{i=1}^{n}(y_i - \\overline{y})^2} \r\n",
        "$$\r\n",
        "O valor de $r^2$ está sempre contido entre zero e um; um valor de $r^2$ quase igual a zero indica um ajuste ruim da reta de Mínimos Quadrados.\r\n",
        "\r\n",
        "#### **RMSE**\r\n",
        "Frequentemente usada das diferenças entre os valores (valores de amostra ou população) previstos por um modelo ou um estimador e os valores observados. O RMSE representa a raiz quadrada do segundo momento amostral das diferenças entre os valores previstos e os valores observados ou a média quadrática dessas diferenças.\r\n",
        "\r\n",
        "$$\r\n",
        " RMSE = \\frac{1}{n -1}\\sqrt{\\sum_{i=1}^{n}y_i - \\overline{y}}\r\n",
        "$$\r\n",
        "\r\n",
        "Ele é utilizado para mensurrar o quanto há de erro.\r\n",
        "\r\n",
        "#### **Indicador de covariância**\r\n",
        "A covariância mede a relação linear entre duas variáveis. **A covariância é semelhante à correlação entre duas variáveis**. **O que muda é que ela não é padronizada.** Portanto, a covariância pode variar de menos infinito a mais infinito. Assim, o valor para uma relação linear ideal depende dos dados. Como os dados não são padronizadas, é difícil determinar a força da relação entre as variáveis.\r\n",
        "\r\n",
        "$$\r\n",
        "  cov(x,y) = \\overline{xy} -  \\overline{x} \\cdot \\overline{y}\r\n",
        "$$\r\n",
        "Quando realizamos a covariancia de uma mesma variavel encontramos a variância desta:\r\n",
        "$$\r\n",
        "  cov(x,x) = \\sigma^2 \r\n",
        "$$\r\n",
        "\r\n"
      ]
    },
    {
      "cell_type": "markdown",
      "metadata": {
        "id": "07dFr1CneQWH"
      },
      "source": [
        "## **Vamos práticar!!!**\r\n",
        "\r\n",
        "> Vamos considerar uma série temporal onde X é o tempo, longo entre com valor de Y:"
      ]
    },
    {
      "cell_type": "code",
      "metadata": {
        "id": "h47bsUXTefIQ",
        "cellView": "form"
      },
      "source": [
        "#@title Entre com pontos de Y\r\n",
        "\r\n",
        "y = []\r\n",
        "x = []\r\n",
        "c = 0\r\n",
        "print(\"Caso deseje encerrar a entrada de dados aperte n; \")\r\n",
        "print(\"para resetar a entrada aperte R\")\r\n",
        "k = input(\"Entre: \")\r\n",
        "\r\n",
        "while True:\r\n",
        "  if ((k == 'n') or (k == 'N')):\r\n",
        "    break\r\n",
        "\r\n",
        "  elif ((k == 'R') or (k == 'r')):\r\n",
        "    y = []\r\n",
        "    x = []\r\n",
        "    c = 0\r\n",
        "\r\n",
        "  else:\r\n",
        "    y.append(float(k))\r\n",
        "    x.append(float(c))\r\n",
        "    c += 1\r\n",
        "\r\n",
        "  k = input(\"Entre: \")\r\n",
        "  \r\n",
        "print(f\"temos os pontos como : {y}\")\r\n",
        "print( \"                     0 \",x )"
      ],
      "execution_count": null,
      "outputs": []
    },
    {
      "cell_type": "code",
      "metadata": {
        "id": "lEgj-i_Xe24_",
        "cellView": "form"
      },
      "source": [
        "#@title Gráfico de disperssão\r\n",
        "\r\n",
        "#   Importações\r\n",
        "import matplotlib.pyplot as plt\r\n",
        "import seaborn as sns\r\n",
        "\r\n",
        "plt.figure(figsize=(8,8))\r\n",
        "plt.scatter(x=x,y=y)\r\n",
        "plt.xlabel(' Valores eixo X')\r\n",
        "plt.ylabel(' Valores eixo y')\r\n",
        "plt.show()"
      ],
      "execution_count": null,
      "outputs": []
    },
    {
      "cell_type": "code",
      "metadata": {
        "id": "hcHLT043fPmQ",
        "cellView": "form"
      },
      "source": [
        "#@title Correlação\r\n",
        "u_x = sum(x)/len(x)\r\n",
        "u_y = sum(y)/len(y)\r\n",
        "\r\n",
        "#   Calculando o desvio padrão\r\n",
        "h=0\r\n",
        "for i in x:\r\n",
        "  h += (i-u_x)**2 \r\n",
        "std_x = (h/(len(x)-1))**0.5\r\n",
        "\r\n",
        "h=0\r\n",
        "for i in y:\r\n",
        "  h += (i-u_y)**2 \r\n",
        "std_y = (h/(len(x)-1))**0.5\r\n",
        "\r\n",
        "r_p = 0\r\n",
        "for i in range(0,len(x)):\r\n",
        "  r_p += ((x[i]-u_x)/std_x)*((y[i]-u_y)/std_y)\r\n",
        "\r\n",
        "r_p = r_p/((len(x))-1)\r\n",
        "print(f\"O valor da covariância: {r_p}\")"
      ],
      "execution_count": null,
      "outputs": []
    },
    {
      "cell_type": "code",
      "metadata": {
        "id": "7RbujtcefAw3",
        "cellView": "form"
      },
      "source": [
        "#@title Regressão linear \r\n",
        "m = u_y/u_x\r\n",
        "b = u_y - m*u_x;\r\n",
        "\r\n",
        "Y_r = []\r\n",
        "for i in range(0,len(x)):\r\n",
        "  k = m*x[i] + b; \r\n",
        "  Y_r.append(k)\r\n",
        "\r\n",
        "plt.figure(figsize=(8,8))\r\n",
        "plt.scatter(x=x,y=y, color = 'red')\r\n",
        "plt.plot(x,Y_r)\r\n",
        "plt.xlim(-0.2,(max(x)+1))\r\n",
        "plt.ylim(-0.2, (max(y)+1))\r\n",
        "plt.xlabel(' Valores eixo X')\r\n",
        "plt.ylabel(' Valores eixo y')\r\n",
        "plt.show()\r\n"
      ],
      "execution_count": null,
      "outputs": []
    },
    {
      "cell_type": "code",
      "metadata": {
        "id": "9mEhaJ5ZfVRx",
        "cellView": "form"
      },
      "source": [
        "#@title Regressão de mínimos quadrados\r\n",
        "\r\n",
        "m1 = 0 ; m2 = 0\r\n",
        "for i in range(0,(len(x))):\r\n",
        "  m1 += ((x[i]- u_x)*(y[i]- u_y))\r\n",
        "  m2 += ((x[i] - u_x)**2) \r\n",
        "m=m1/m2\r\n",
        "b = u_y - m*u_x;\r\n",
        "\r\n",
        "Y_mmq = []\r\n",
        "for i in range(0,len(x)):\r\n",
        "  k = m*x[i] + b; \r\n",
        "  Y_mmq.append(k)\r\n",
        "\r\n",
        "plt.figure(figsize=(8,8))\r\n",
        "plt.scatter(x=x,y=y, color = 'red')\r\n",
        "plt.plot(x,Y_mmq)\r\n",
        "plt.xlim(-0.2,(max(x)+1))\r\n",
        "plt.ylim(-0.2, (max(y)+1))\r\n",
        "plt.xlabel(' Valores eixo X')\r\n",
        "plt.ylabel(' Valores eixo y')\r\n",
        "plt.show()\r\n",
        "\r\n"
      ],
      "execution_count": null,
      "outputs": []
    },
    {
      "cell_type": "code",
      "metadata": {
        "id": "P34kH6KifeK4",
        "cellView": "form"
      },
      "source": [
        "#@title Valores de validação\r\n",
        "\r\n",
        "#   Coeficiente de determinação\r\n",
        "r1 = 0 ; r2 = 0; e = 0; c = 0\r\n",
        "for i in range(0,len(x)):\r\n",
        "  r1 += (y[i] - Y_mmq[i])**2\r\n",
        "  r2 += (y[i] - u_y)**2\r\n",
        "  e  += (y[i] - u_y)\r\n",
        "  c  += (x[i]- u_x)*(y[i] - u_y)\r\n",
        "\r\n",
        "RQ = 1 - (r1/r2)\r\n",
        "\r\n",
        "#   RMSE\r\n",
        "RMSE = (1/(len(x)-1))*((e)**0.5)\r\n",
        "\r\n",
        "#   covariância\r\n",
        "cov = (1/(len(x)-1))*c\r\n",
        "\r\n",
        "print(f\"Coeficiente de determinação: {RQ}\")\r\n",
        "print(f\"RMSE: {RMSE}\")\r\n",
        "print(f\"Covariância: {cov}\")\r\n",
        "\r\n",
        "\r\n"
      ],
      "execution_count": null,
      "outputs": []
    },
    {
      "cell_type": "markdown",
      "metadata": {
        "id": "1bSanmwi5Fq9"
      },
      "source": [
        "**Com base nos valores de validação o que se pode concluir?**"
      ]
    },
    {
      "cell_type": "markdown",
      "metadata": {
        "id": "lvBxOrQAne6r"
      },
      "source": [
        "---\r\n",
        "# **Capítulo 5: Modelos de Estudo**\r\n",
        "> **Todo este capítulo é bem teórico. Recomenda-se utilizar além dessas anotações a consulta ao livro.**\r\n",
        "\r\n",
        "A metodologia da pesquisa como um campo científico visa identificar princípios sobre o desenho da amostra ou do total, instrumentos de coleta de dados, ajuste estatístico de dados, processamento de dados e análise final dos dados que pode criar erros sistemáticos e aleatórios da pesquisa.\r\n",
        "\r\n",
        "\r\n",
        "<center><img width = \"75%\"src=\"https://raw.githubusercontent.com/Tiao553/Projects_Data_Science/main/img/MOd_est.png\r\n",
        "\"></center>\r\n",
        "\r\n",
        "**Você sabe identificar quais são questões estatísticas e não estatísticas?**\r\n",
        "\r\n",
        "Quando se trata de identificar uma questão estatísica ou não basta análisar o metodo de estudo: \r\n",
        "* **É necessário uma coleta de dados?**\r\n",
        "* **È necessário uma representação estatística para analisar estes dados?**\r\n",
        "* **Foi possivel gerar alguma conclusão?**\r\n",
        "\r\n",
        "Se a resposta das 3 questões for **SIM**, então estamos tratando de questões estatiísta.\r\n",
        "\r\n",
        "> **Ponto de reflexão:**\r\n",
        "\r\n",
        "* Ciência de dados tem por fundamento a metodologia estatística?"
      ]
    },
    {
      "cell_type": "markdown",
      "metadata": {
        "id": "X-RzZMCx6zVd"
      },
      "source": [
        "## **Tipos de Estudo**\r\n",
        "Quando  falamos de tipos de estudos o que fazemos é um delineamento de um plano de condução para uma análise. Onde são divididas em 3 tipos, **sendo (1) tipo de amostragem, (2) Observacional e (3) Experimental.**Fazemos estudos para reunir informações e tirar conclusões. O tipo de conclusão a que chegamos depende do método de estudo utilizado:\r\n",
        "\r\n",
        "* **Observacional** $\\rightarrow correlacional$ \r\n",
        "> Tipo onde não se pode controlar uma variável independente e nem proceder a\r\n",
        "aleatorização das unidades amostrais. Portanto, são delineamentos com observação sistemática e periódica das unidades. Não há “intervenção” do pesquisador a fim de se obter os dados amostrais.\r\n",
        "* **Experimental** $\\rightarrow causal$ \r\n",
        "> Tipo de estudo, no qual o pesquisador controla determinadas variáveis,classificadas como independentes (causa,fatores, tratamentos) de tal forma a obter outra variável, chamada de dependente (efeito,variável resposta).**Repetição e aleatorização sempre devem estar presentes em um experimento.**\r\n",
        "* **Amostragem** $\\rightarrow descritivo$ \r\n",
        ">  Métodos de como determinar o tamanho de uma determinada amostra para se atingir determinado objetivo e técnicas sobre como selecionar amostras da população de modo a realizar inferências sobre a população a partir da análise da amostra.\r\n",
        "\r\n",
        "<center><img width = \"75%\"src=\"\"></center>\r\n",
        "\r\n",
        "\r\n",
        "\r\n"
      ]
    },
    {
      "cell_type": "markdown",
      "metadata": {
        "id": "dxYMqXYD6edb"
      },
      "source": [
        "## **Estudos Observacionais e Amostragem**\r\n",
        "Nesta parte é necessário estar bem definidos os conceitos de amostra alétoria e população, logo:\r\n",
        ">  **A amostra** deve **ser aleatória e grande o suficiente,**  de forma a utilizar as informações para gerir inferência sobre a população.\r\n",
        "\r\n",
        ">  **A população** é um conjunto total de atributos que é desejado realizar alguma inferência. Além disso, quase nunca é possível é possivel examinar todos os membros de uma população inteira.\r\n",
        "\r\n",
        "Em muitas análise é de extrema importância saber interprertar a difereça da relação entre as features. Para isso, devemos entender a diferença  entre casualidade e correlação. \r\n",
        "\r\n",
        "> **Casualidade:** Esse conceito diz diretamente que caso uma informação $A$ for verdade vai implicar que $B$ vai ser verdade.\r\n",
        "\r\n",
        "> **Correlação:** Um indicador, como ja explicado, que demonstra a ocorrência de fenômenos observados ao mesmo tempo."
      ]
    },
    {
      "cell_type": "markdown",
      "metadata": {
        "id": "e-chWU2TNYTV"
      },
      "source": [
        "## **Tipos de amostragem**\r\n",
        "\r\n",
        "Identificar a forma de amostragem é importantíssimo para poder gerir informações sobre um conjunto de dados. Logo temos:\r\n",
        "\r\n",
        "* **Amostragem aleatória simples**\r\n",
        ">No inglês, SRS — Simple Random Sample. Neste método, qualquer grupo de $n$ indivíduos tem igual probabilidade de ser selecionado a partir de uma população $N$.\r\n",
        "* **Amostragem estratificada**\r\n",
        "> A população é dividida em **subgrupos homogêneos**, também denominados **estratos**. O estrato divide a população em subgrupos internamente homogêneos, mas diferentes entre si. Para cada um destes subgrupos, são extraídos aleatoriamente os indivíduos que farão parte da amostra (amostragem aleatória simples).\r\n",
        "> **O tamanho dos estratos na amostra deve ser proporcional ao tamanho dos estratos na população**. Sempre que identifica-se que uma população é dividida em estratos, a amostra pode ser estratificada.**Este método reduz a variabilidade amostral.**\r\n",
        ">Na prática, a população é dividida em vários **subgrupos homogêneos (vários estratos) e amostras aleatórias são sorteadas dentro de cada estrato.**\r\n",
        "* **Amostragem sistemática**\r\n",
        "> Geralmente, é o método com menor custo. Funciona em algumas situações. Entretanto, deve-se atentar para que o processo seja iniciado de forma a garantir a aleatoriedade.**A base de amostragem** corresponde a uma lista de indivíduos a partir da qual será selecionada a amostra. Na prática, os elementos da amostra são ordenados segundo um critério qualquer, formando uma lista ou uma fila. A seleção se dá segundo um fator de repetição, um intervalo fixo. Este intervalo é dado por N/n, em que N é o tamanho da população e n é o tamanho desejado da amostra. O pulo do gato, para garantir a aleatoriedade, é escolher aleatoriamente o primeiro elemento **(sua posição na fila deve ser igual ou inferior ao valor encontrado para o fator de repetição).**\r\n",
        "* **Amostragem de conglomerados**\r\n",
        ">Seleciona indivíduos aleatoriamente dentro de subgrupos heterogêneos de uma população. Estes subgrupos assemelham-se à população como um todo.**Este método torna o processo de amostragem mais controlável.**Na prática, subgrupos (conglomerados) representativos de uma **população são escolhidos aleatoriamente e um censo é realizado dentro deles.**\r\n",
        "\r\n",
        "* **Amostra por conveniência**\r\n",
        "> Indivíduos são selecionados selecionados para a amostra porque, **por algum motivo, estão mais disponíveis.** Não é um método probabilístico — a seleção da amostra não é aleatória, o que pode ser justificável ou não, a depender do contexto da pesquisa.\r\n",
        "\r\n",
        "**Se indivíduos de uma população de interesse não fazem parte da base, eles não serão incluídos em nenhuma amostra, não importa o método utilizado.**"
      ]
    },
    {
      "cell_type": "markdown",
      "metadata": {
        "id": "6HQhrus0N19t"
      },
      "source": [
        "## **Fontes de Vies**\r\n",
        "Dependendo do metodo escolhido pode ocorrer de serem encontradas **Falhas sitemáticas**, essas são chamadas de **Viés**. Assim, como ele pode ocorrer de muitas maneiras há uma classificação destes:\r\n",
        "\r\n",
        "* **Viés de não resposta**: quando indivíduos selecionados não respondem ou não podem responder. O viés ocorre quando uma grande proporção da amostra deixa de responder a pesquisa.\r\n",
        "* **Uso de vocabulário viesado (viés de resposta):** indivíduos influenciados externamente, pelo vocabulário usado na pergunta ou por comportamento tendencioso do entrevistador.\r\n",
        "* **Viés de resposta voluntária:** em uma pesquisa de resposta voluntária, a amostra consiste de pessoas que, convidadas, decidiram participar. Quase sempre pesquisas em que as pessoas escolhem participar são viesadas.\r\n",
        "* **Subcobertura:** ocorre quando indivíduos de determinado subgrupo são selecionados menos frequentemente do que deveriam. Assim, uma parte da população tem menor representatividade na amostra do que na população.\r\n",
        "* **Amostragem por conveniência:** assim como a de resposta voluntária, costuma ser viesada."
      ]
    },
    {
      "cell_type": "markdown",
      "metadata": {
        "id": "kfDh0uZPnlFa"
      },
      "source": [
        "---\r\n",
        "# **Capítulo 6: Probabilidade**\r\n",
        "\r\n",
        "> Quando começamos a trabalhar com a aleatório entra em questão a probabilidade.Dessa forma vamos aborda-la para o procedimento do entendimento."
      ]
    },
    {
      "cell_type": "markdown",
      "metadata": {
        "id": "vF3yjpVOnrcS"
      },
      "source": [
        "---\r\n",
        "# **Capítulo 7: Variaveis aleatórias**"
      ]
    },
    {
      "cell_type": "markdown",
      "metadata": {
        "id": "F2kqRQOLny7B"
      },
      "source": [
        "---\r\n",
        "# **Capítulo 8: Distribuição de Amostragem**"
      ]
    },
    {
      "cell_type": "markdown",
      "metadata": {
        "id": "nF8EnwMVn7Ka"
      },
      "source": [
        "---\r\n",
        "# **Capítulo 9: Intervalo de confiança**"
      ]
    },
    {
      "cell_type": "markdown",
      "metadata": {
        "id": "g4YpzmoUoDSa"
      },
      "source": [
        "---\r\n",
        "# **Capítulo 10: Testes de significância (teste de hipótese)**"
      ]
    },
    {
      "cell_type": "markdown",
      "metadata": {
        "id": "jOOJQKlToS7U"
      },
      "source": [
        "---\r\n",
        "# **Capítulo 11: Inferência para dados categóricos (testes qui-quadrado)**"
      ]
    },
    {
      "cell_type": "markdown",
      "metadata": {
        "id": "kppf7H9mohq6"
      },
      "source": [
        "---\r\n",
        "# **Capítulo 12: Inferência de duas amostras para a diferença entre grupos**\r\n",
        "\r\n"
      ]
    },
    {
      "cell_type": "markdown",
      "metadata": {
        "id": "z5jf6OZ7o0f7"
      },
      "source": [
        "---\r\n",
        "# **Capítulo 13: Regressão Avançada**"
      ]
    },
    {
      "cell_type": "markdown",
      "metadata": {
        "id": "A84xhNidpEDy"
      },
      "source": [
        "---\r\n",
        "# **Capítulo 14: Análise de variância**"
      ]
    },
    {
      "cell_type": "markdown",
      "metadata": {
        "id": "BlN30D-SP_4W"
      },
      "source": [
        "---\r\n",
        "# Site referenciados\r\n",
        "\r\n",
        "1. https://caderno.medium.com/t%C3%A9cnicas-de-amostragem-c83218114593\r\n",
        "2. https://Sigmoidal.ai\r\n",
        "3. https://wikipedia.com \r\n",
        "4. https://www.minitab.com/pt-br/\r\n",
        "5. http://www-periodicos-capes-gov-br.ezl.periodicos.capes.gov.br/index.php?\r\n",
        "6. http://www.esalq.usp.br/departamentos/lce/arquivos/aulas/2014/LCE0211/idemauro/Tipos_de_pesquisa_e_producao_de_dados.pdf\r\n",
        "7. http://www.abhorticultura.com.br/eventosx/trabalhos/ev_1/MINI01.pdf"
      ]
    },
    {
      "cell_type": "code",
      "metadata": {
        "id": "8QtuRXlSfPPX"
      },
      "source": [
        ""
      ],
      "execution_count": null,
      "outputs": []
    }
  ]
}