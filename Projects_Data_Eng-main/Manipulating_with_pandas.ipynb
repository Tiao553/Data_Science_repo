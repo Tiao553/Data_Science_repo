{
 "cells": [
  {
   "cell_type": "markdown",
   "id": "blessed-access",
   "metadata": {},
   "source": [
    "<center><img src='https://upload.wikimedia.org/wikipedia/commons/thumb/e/ed/Pandas_logo.svg/1200px-Pandas_logo.svg.png' weither=\"70%\" ></center>\n",
    "\n",
    "Summarized by *Sebastião Ferreira de Paula*, Createad by [DataCamp](https://learn.datacamp.com/courses/streamlined-data-ingestion-with-pandas)\n",
    "--"
   ]
  },
  {
   "cell_type": "markdown",
   "id": "advanced-socket",
   "metadata": {},
   "source": [
    "---\n",
    "**Manipulação de dados com Pandas** \n",
    "--"
   ]
  },
  {
   "cell_type": "markdown",
   "id": "dated-uniform",
   "metadata": {},
   "source": [
    "Quando trabalhamos com pandas, temos a carecteristicas de trabalhar com `DataFrames`.\n",
    "\n",
    "Mas afinal o que seria um `DataFrame`?\n",
    "--\n",
    "São umas estrutura especifica montada com duas dimenssões `[ Colunas e rows(index)]`."
   ]
  },
  {
   "cell_type": "markdown",
   "id": "dramatic-walker",
   "metadata": {},
   "source": [
    "A biblioteca do `Python`, `Pandas`, nos possibilita importar deiversos tipos de dados e sendo o mais utilizado os dos tipos de dados com `.TSV`"
   ]
  },
  {
   "cell_type": "markdown",
   "id": "adverse-windows",
   "metadata": {},
   "source": [
    "# Obtenha dados de outros arquivos simples\n",
    "\n",
    "Embora os CSVs sejam o tipo mais comum de arquivo simples, às vezes você encontrará arquivos que usam delimitadores diferentes `.read_csv()` pode carregar tudo isso com a ajuda do `sep` argumento de palavra - chave. Por padrão, `pandas` assume que o separador é uma vírgula, por isso não precisamos especificar seppara CSVs.\n",
    "\n",
    "A versão dos dados fiscais de Vermont aqui é um arquivo de valores separados por tabulação (TSV), então você precisará usar `sep` para passar o delimitador correto ao ler o arquivo. Lembre-se de que as guias são representadas como `\\t`. Depois de carregar o arquivo, o código restante agrupa o `N1`campo, que contém as categorias de faixa de renda, para criar um gráfico de declarações de impostos por categoria de renda."
   ]
  },
  {
   "cell_type": "markdown",
   "id": "confident-chase",
   "metadata": {},
   "source": [
    "Linhas Limitadoras:\n",
    "--\n",
    "\n",
    "- Utilizar `nrows` e `skiprows` juntos para processar a ,le em pedaços\n",
    "- `skiprows` aceita uma lista de números de linhas, um número de linhas, ou uma função para, flter `rows`.\n",
    "- Definir `header=none` para que `pandas` saiba que não há nomes de colunas"
   ]
  },
  {
   "cell_type": "markdown",
   "id": "missing-electric",
   "metadata": {},
   "source": [
    "Especificação dos tipos de dados:\n",
    "--\n",
    "- Utilize o argumento da palavra-chave `dtype` para especificar os tipos de dados da coluna\n",
    "- O `dtype` utiliza um dicionário de nomes de colunas e tipos de dados\n"
   ]
  },
  {
   "cell_type": "markdown",
   "id": "fluid-while",
   "metadata": {},
   "source": [
    "VAMOS A PRÁTICA:\n",
    "--"
   ]
  },
  {
   "cell_type": "code",
   "execution_count": 12,
   "id": "seventh-orientation",
   "metadata": {},
   "outputs": [
    {
     "data": {
      "text/html": [
       "<div>\n",
       "<style scoped>\n",
       "    .dataframe tbody tr th:only-of-type {\n",
       "        vertical-align: middle;\n",
       "    }\n",
       "\n",
       "    .dataframe tbody tr th {\n",
       "        vertical-align: top;\n",
       "    }\n",
       "\n",
       "    .dataframe thead th {\n",
       "        text-align: right;\n",
       "    }\n",
       "</style>\n",
       "<table border=\"1\" class=\"dataframe\">\n",
       "  <thead>\n",
       "    <tr style=\"text-align: right;\">\n",
       "      <th></th>\n",
       "      <th>0</th>\n",
       "      <th>1</th>\n",
       "      <th>2</th>\n",
       "      <th>3</th>\n",
       "      <th>4</th>\n",
       "      <th>5</th>\n",
       "      <th>6</th>\n",
       "      <th>7</th>\n",
       "      <th>8</th>\n",
       "      <th>9</th>\n",
       "      <th>...</th>\n",
       "      <th>137</th>\n",
       "      <th>138</th>\n",
       "      <th>139</th>\n",
       "      <th>140</th>\n",
       "      <th>141</th>\n",
       "      <th>142</th>\n",
       "      <th>143</th>\n",
       "      <th>144</th>\n",
       "      <th>145</th>\n",
       "      <th>146</th>\n",
       "    </tr>\n",
       "  </thead>\n",
       "  <tbody>\n",
       "    <tr>\n",
       "      <th>0</th>\n",
       "      <td>50</td>\n",
       "      <td>VT</td>\n",
       "      <td>5445</td>\n",
       "      <td>6</td>\n",
       "      <td>340</td>\n",
       "      <td>30</td>\n",
       "      <td>290</td>\n",
       "      <td>0</td>\n",
       "      <td>270</td>\n",
       "      <td>1000</td>\n",
       "      <td>...</td>\n",
       "      <td>340</td>\n",
       "      <td>41004</td>\n",
       "      <td>160</td>\n",
       "      <td>300</td>\n",
       "      <td>220</td>\n",
       "      <td>1384</td>\n",
       "      <td>150</td>\n",
       "      <td>3539</td>\n",
       "      <td>120</td>\n",
       "      <td>2822</td>\n",
       "    </tr>\n",
       "  </tbody>\n",
       "</table>\n",
       "<p>1 rows × 147 columns</p>\n",
       "</div>"
      ],
      "text/plain": [
       "   0   1     2    3    4    5    6    7    8     9    ...  137    138  139  \\\n",
       "0   50  VT  5445    6  340   30  290    0  270  1000  ...  340  41004  160   \n",
       "\n",
       "   140  141   142  143   144  145   146  \n",
       "0  300  220  1384  150  3539  120  2822  \n",
       "\n",
       "[1 rows x 147 columns]"
      ]
     },
     "execution_count": 12,
     "metadata": {},
     "output_type": "execute_result"
    }
   ],
   "source": [
    "#   Importando biblioteca\n",
    "import pandas as pd\n",
    "\n",
    "#   Lendo o arquivo para prática\n",
    "URI = 'https://assets.datacamp.com/production/repositories/4412/datasets/61bb27bf939aac4344d4f446ce6da1d1bf534174/vt_tax_data_2016.csv'\n",
    "df = pd.read_csv(URI,\n",
    "                nrows = 500,\n",
    "                skiprows = 600,\n",
    "                header = None)\n",
    "df.head(n=1)"
   ]
  },
  {
   "cell_type": "code",
   "execution_count": 11,
   "id": "reverse-magazine",
   "metadata": {},
   "outputs": [
    {
     "data": {
      "text/html": [
       "<div>\n",
       "<style scoped>\n",
       "    .dataframe tbody tr th:only-of-type {\n",
       "        vertical-align: middle;\n",
       "    }\n",
       "\n",
       "    .dataframe tbody tr th {\n",
       "        vertical-align: top;\n",
       "    }\n",
       "\n",
       "    .dataframe thead th {\n",
       "        text-align: right;\n",
       "    }\n",
       "</style>\n",
       "<table border=\"1\" class=\"dataframe\">\n",
       "  <thead>\n",
       "    <tr style=\"text-align: right;\">\n",
       "      <th></th>\n",
       "      <th>50</th>\n",
       "      <th>VT</th>\n",
       "      <th>05445</th>\n",
       "      <th>6</th>\n",
       "      <th>340</th>\n",
       "      <th>30</th>\n",
       "      <th>290</th>\n",
       "      <th>0</th>\n",
       "      <th>270</th>\n",
       "      <th>1000</th>\n",
       "      <th>...</th>\n",
       "      <th>340.5</th>\n",
       "      <th>41004</th>\n",
       "      <th>160.1</th>\n",
       "      <th>300</th>\n",
       "      <th>220</th>\n",
       "      <th>1384</th>\n",
       "      <th>150.1</th>\n",
       "      <th>3539.1</th>\n",
       "      <th>120.3</th>\n",
       "      <th>2822</th>\n",
       "    </tr>\n",
       "  </thead>\n",
       "  <tbody>\n",
       "    <tr>\n",
       "      <th>0</th>\n",
       "      <td>50</td>\n",
       "      <td>VT</td>\n",
       "      <td>5446</td>\n",
       "      <td>1</td>\n",
       "      <td>2440</td>\n",
       "      <td>1960</td>\n",
       "      <td>200</td>\n",
       "      <td>250</td>\n",
       "      <td>820</td>\n",
       "      <td>2490</td>\n",
       "      <td>...</td>\n",
       "      <td>1160</td>\n",
       "      <td>1057</td>\n",
       "      <td>0</td>\n",
       "      <td>0</td>\n",
       "      <td>0</td>\n",
       "      <td>0</td>\n",
       "      <td>180</td>\n",
       "      <td>178</td>\n",
       "      <td>2090</td>\n",
       "      <td>3023</td>\n",
       "    </tr>\n",
       "  </tbody>\n",
       "</table>\n",
       "<p>1 rows × 147 columns</p>\n",
       "</div>"
      ],
      "text/plain": [
       "   50  VT  05445  6   340    30  290    0  270  1000  ...  340.5  41004  \\\n",
       "0  50  VT   5446  1  2440  1960  200  250  820  2490  ...   1160   1057   \n",
       "\n",
       "   160.1  300  220  1384  150.1  3539.1  120.3  2822  \n",
       "0      0    0    0     0    180     178   2090  3023  \n",
       "\n",
       "[1 rows x 147 columns]"
      ]
     },
     "execution_count": 11,
     "metadata": {},
     "output_type": "execute_result"
    }
   ],
   "source": [
    "# Mostastrando agora com header True\n",
    "URI = 'https://assets.datacamp.com/production/repositories/4412/datasets/61bb27bf939aac4344d4f446ce6da1d1bf534174/vt_tax_data_2016.csv'\n",
    "df_2 = pd.read_csv(URI,\n",
    "                nrows = 500,\n",
    "                skiprows = 600)\n",
    "df_2.head(n=1)"
   ]
  },
  {
   "cell_type": "markdown",
   "id": "expensive-grace",
   "metadata": {},
   "source": [
    "---\n",
    "# Utilização de Spreadsheets\n",
    "\n",
    "\n",
    "Loading Select Columns and Rows:\n",
    "--\n",
    "- `read_excel()` has many keyword arguments in common with `read_csv()`\n",
    "> - `nrows` : limit number of rows to load\n",
    "> - `skiprows` : specify number of rows or row numbers to skip\n",
    "> - `usecols` : choose columns by name, positional number, or le\n"
   ]
  },
  {
   "cell_type": "markdown",
   "id": "sudden-arctic",
   "metadata": {},
   "source": [
    "Selecção das sheats a carregar:\n",
    "--\n",
    "- `read_excel()` carrega a ,rst sheet num Excel ,le por defeito.\n",
    "- Utilize o argumento da palavra-chave `sheet_name`  para carregar outras sheats.\n",
    "- Especificar folhas de cálculo por nome e/ou número de posição (indexado a zero).\n",
    "- Passar uma lista de nomes/números para carregar mais do que uma folha de cada vez.\n",
    "- Quaisquer argumentos passados para `read_excel()` aplicam-se a todas as folhas lidas.\n",
    "\n"
   ]
  },
  {
   "cell_type": "markdown",
   "id": "abstract-truth",
   "metadata": {},
   "source": [
    "Definir colunas booleanas\n",
    "--\n",
    "\n",
    "Os conjuntos de dados podem ter colunas modeladas com mais precisão como valores booleanos. No entanto, pandasgeralmente carrega-os como flutuantes por padrão, uma vez que o padrão para booleanos pode ter efeitos indesejados, como transformar valores `NA` em `True`.\n",
    "\n",
    "`fcc_survey_subset.xlsx` contém uma coluna de ID de string e várias colunas True / False indicando fatores de estresse financeiros. Você avaliará quais colunas não ID não têm valores NA e, portanto, podem ser definidas como booleanas e, em seguida, instruirá read_excel()para carregá-las como tal com o `dtype` argumento."
   ]
  },
  {
   "cell_type": "markdown",
   "id": "wound-northern",
   "metadata": {},
   "source": [
    "Definir valores verdadeiros / falsos personalizados\n",
    "--\n",
    "\n",
    "Nas colunas booleanas, pandasreconhece automaticamente determinados valores, como \"VERDADEIRO\" e 1, como `True`, e outros, como \"FALSO\" e 0, como `False`. Alguns conjuntos de dados, como dados de pesquisa, podem usar valores não reconhecidos, como \"Sim\" e \"Não\".\n",
    "\n",
    "Para fins de prática, algumas colunas booleanas na Pesquisa para Novos Desenvolvedores foram codificadas dessa maneira. Você garantirá que eles sejam interpretados corretamente com a ajuda dos argumentos `true_values`e `false_values`.\n",
    "\n"
   ]
  },
  {
   "cell_type": "markdown",
   "id": "intelligent-preview",
   "metadata": {},
   "source": [
    "pandas e Datetimes:\n",
    "--\n",
    "\n",
    "- As colunas de data/hora são carregadas como objectos (cordas) por defeito\n",
    "- Especifique que as colunas têm datas/horas com o argumento parse_dates (not dtype !)\n",
    "- `parse_dates` podem aceitar:\n",
    ">  - uma lista de nomes ou números de colunas a analisar\n",
    ">  - uma lista contendo listas de colunas a combinar e a analisar\n",
    ">  - um dicionário onde as chaves são novos nomes de colunas e os valores são listas de colunas para `parse` juntas"
   ]
  },
  {
   "cell_type": "markdown",
   "id": "dense-professional",
   "metadata": {},
   "source": [
    "Datas não-padronizadas:\n",
    "--\n",
    "\n",
    "- `parse_dates`  não funciona com formatos de data/hora não padronizados\n",
    "- Use `pd.to_datetime()` depois de carregar os dados se o `parse_dates` não funcionar\n",
    "-  `to_datetime()` argumentos:\n",
    "> - Quadro de dados e coluna a converter\n",
    "> - `format` : representação em cadeia do formato de data/hora\n",
    "\n",
    "Para informções mais completas de set data acesse [link](https://strftime.org/)\n",
    "\n",
    "Hands-on:\n",
    "--"
   ]
  },
  {
   "cell_type": "code",
   "execution_count": 25,
   "id": "fancy-population",
   "metadata": {},
   "outputs": [
    {
     "name": "stderr",
     "output_type": "stream",
     "text": [
      "C:\\Users\\Sebastiao\\Anaconda3\\lib\\site-packages\\ipykernel_launcher.py:5: FutureWarning: Your version of xlrd is 1.2.0. In xlrd >= 2.0, only the xls format is supported. As a result, the openpyxl engine will be used if it is installed and the engine argument is not specified. Install openpyxl instead.\n",
      "  \"\"\"\n"
     ]
    },
    {
     "data": {
      "text/html": [
       "<div>\n",
       "<style scoped>\n",
       "    .dataframe tbody tr th:only-of-type {\n",
       "        vertical-align: middle;\n",
       "    }\n",
       "\n",
       "    .dataframe tbody tr th {\n",
       "        vertical-align: top;\n",
       "    }\n",
       "\n",
       "    .dataframe thead th {\n",
       "        text-align: right;\n",
       "    }\n",
       "</style>\n",
       "<table border=\"1\" class=\"dataframe\">\n",
       "  <thead>\n",
       "    <tr style=\"text-align: right;\">\n",
       "      <th></th>\n",
       "      <th>Age</th>\n",
       "      <th>AttendedBootcamp</th>\n",
       "      <th>BootcampFinish</th>\n",
       "      <th>BootcampLoanYesNo</th>\n",
       "      <th>BootcampName</th>\n",
       "      <th>BootcampRecommend</th>\n",
       "      <th>ChildrenNumber</th>\n",
       "      <th>CityPopulation</th>\n",
       "      <th>CodeEventConferences</th>\n",
       "      <th>CodeEventDjangoGirls</th>\n",
       "      <th>...</th>\n",
       "      <th>ResourcePluralSight</th>\n",
       "      <th>ResourceSkillCrush</th>\n",
       "      <th>ResourceStackOverflow</th>\n",
       "      <th>ResourceTreehouse</th>\n",
       "      <th>ResourceUdacity</th>\n",
       "      <th>ResourceUdemy</th>\n",
       "      <th>ResourceW3Schools</th>\n",
       "      <th>SchoolDegree</th>\n",
       "      <th>SchoolMajor</th>\n",
       "      <th>StudentDebtOwe</th>\n",
       "    </tr>\n",
       "  </thead>\n",
       "  <tbody>\n",
       "    <tr>\n",
       "      <th>0</th>\n",
       "      <td>28.0</td>\n",
       "      <td>0.0</td>\n",
       "      <td>NaN</td>\n",
       "      <td>NaN</td>\n",
       "      <td>NaN</td>\n",
       "      <td>NaN</td>\n",
       "      <td>NaN</td>\n",
       "      <td>between 100,000 and 1 million</td>\n",
       "      <td>NaN</td>\n",
       "      <td>NaN</td>\n",
       "      <td>...</td>\n",
       "      <td>NaN</td>\n",
       "      <td>NaN</td>\n",
       "      <td>NaN</td>\n",
       "      <td>NaN</td>\n",
       "      <td>NaN</td>\n",
       "      <td>NaN</td>\n",
       "      <td>NaN</td>\n",
       "      <td>some college credit, no degree</td>\n",
       "      <td>NaN</td>\n",
       "      <td>20000</td>\n",
       "    </tr>\n",
       "  </tbody>\n",
       "</table>\n",
       "<p>1 rows × 98 columns</p>\n",
       "</div>"
      ],
      "text/plain": [
       "    Age  AttendedBootcamp  BootcampFinish  BootcampLoanYesNo BootcampName  \\\n",
       "0  28.0               0.0             NaN                NaN          NaN   \n",
       "\n",
       "   BootcampRecommend  ChildrenNumber                 CityPopulation  \\\n",
       "0                NaN             NaN  between 100,000 and 1 million   \n",
       "\n",
       "   CodeEventConferences  CodeEventDjangoGirls  ...  ResourcePluralSight  \\\n",
       "0                   NaN                   NaN  ...                  NaN   \n",
       "\n",
       "   ResourceSkillCrush  ResourceStackOverflow  ResourceTreehouse  \\\n",
       "0                 NaN                    NaN                NaN   \n",
       "\n",
       "   ResourceUdacity  ResourceUdemy  ResourceW3Schools  \\\n",
       "0              NaN            NaN                NaN   \n",
       "\n",
       "                     SchoolDegree  SchoolMajor  StudentDebtOwe  \n",
       "0  some college credit, no degree          NaN           20000  \n",
       "\n",
       "[1 rows x 98 columns]"
      ]
     },
     "execution_count": 25,
     "metadata": {},
     "output_type": "execute_result"
    }
   ],
   "source": [
    "URI_2 = 'https://assets.datacamp.com/production/repositories/4412/datasets/fdb113aa942a0e0ad5c155b2f04784886f0038c9/fcc-new-coder-survey.xlsx'\n",
    "\n",
    "# Rodando o banco de dados do Excel\n",
    "df_3 = pd.read_excel(URI_2, \n",
    "                     skiprows = 2)\n",
    "\n",
    "# com skiprows cortamos a orientação excel e os metadados\n",
    "\n",
    "df_3.head(n=1)"
   ]
  },
  {
   "cell_type": "code",
   "execution_count": null,
   "id": "upset-acoustic",
   "metadata": {},
   "outputs": [],
   "source": []
  },
  {
   "cell_type": "markdown",
   "id": "organized-import",
   "metadata": {},
   "source": [
    "---\n",
    "# Bases de dados relacionais\n",
    "\n",
    "\n",
    "- Os dados sobre entidades estão organizados em tabelas\n",
    "- Cada fila ou registo é uma instância de uma entidade\n",
    "- Cada coluna tem informação sobre um tributo\n",
    "- As tabelas podem ser ligadas umas às outras através de chaves únicas\n",
    "- Suporta mais dados, múltiplos utilizadores simultâneos, e controlos de qualidade de dados\n",
    "- Os tipos de dados são especificados para cada coluna\n",
    "- SQL (Structured Query Language) para interagir com bases de dados"
   ]
  },
  {
   "cell_type": "markdown",
   "id": "union-maldives",
   "metadata": {},
   "source": [
    "Creating Databases Engine\n",
    "--\n",
    "\n",
    "Você pode criar `engine` seja pela propia engine dispobiloizada por cada responsavel pelo banco de dados, ou utilizar o metodo da `sqlalchemy` que cria `engine()` faz uma engine para lidar com conexões de banco de dados:\n",
    "\n",
    "> - Necessita de URL de cadeia de banco de dados para se conectar a\n",
    "> - Formato URL SQLite: `sqlite:///filename.db`"
   ]
  },
  {
   "cell_type": "code",
   "execution_count": null,
   "id": "driven-precipitation",
   "metadata": {},
   "outputs": [],
   "source": [
    "# Import sqlalchemy's create_engine() function\n",
    "from sqlalchemy import create_engine\n",
    "\n",
    "# Create the database engine\n",
    "engine = create_engine(\"sqlite:///data.db\")\n",
    "\n",
    "# View the tables in the database\n",
    "print(engine.table_names())"
   ]
  },
  {
   "cell_type": "markdown",
   "id": "pointed-tractor",
   "metadata": {},
   "source": [
    "Consultas a databases\n",
    "---"
   ]
  },
  {
   "cell_type": "code",
   "execution_count": null,
   "id": "flying-romantic",
   "metadata": {},
   "outputs": [],
   "source": [
    "# Create a SQL query to load the entire weather table\n",
    "query = \"\"\"\n",
    "SELECT * \n",
    "  FROM weather;\n",
    "\"\"\"\n",
    "\n",
    "# Load weather with the SQL query\n",
    "weather = pd.read_sql(query, engine)\n",
    "\n",
    "# View the first few rows of data\n",
    "print(weather.head())"
   ]
  },
  {
   "cell_type": "markdown",
   "id": "breeding-undergraduate",
   "metadata": {},
   "source": [
    "Consultas com `where`\n",
    "---"
   ]
  },
  {
   "cell_type": "code",
   "execution_count": null,
   "id": "voluntary-lawyer",
   "metadata": {},
   "outputs": [],
   "source": [
    "# Create query to get hpd311calls records about safety\n",
    "query = \"\"\"\n",
    "SELECT *\n",
    "FROM hpd311calls\n",
    "WHERE complaint_type = 'SAFETY';\n",
    "\"\"\"\n",
    "\n",
    "# Query the database and assign result to safety_calls\n",
    "safety_calls = pd.read_sql(query,engine)\n",
    "\n",
    "# Graph the number of safety calls by borough\n",
    "call_counts = safety_calls.groupby('borough').unique_key.count()\n",
    "call_counts.plot.barh()\n",
    "plt.show()"
   ]
  },
  {
   "cell_type": "markdown",
   "id": "lovely-answer",
   "metadata": {},
   "source": [
    "Consultas com `where` com `or`\n",
    "---"
   ]
  },
  {
   "cell_type": "code",
   "execution_count": null,
   "id": "occupational-newton",
   "metadata": {},
   "outputs": [],
   "source": [
    "# Create query for records with max temps <= 32 or snow >= 1\n",
    "query = \"\"\"\n",
    "SELECT *\n",
    "  FROM weather\n",
    "  where tmax <= 32\n",
    "  or snow >= 1;\n",
    "\"\"\"\n",
    "\n",
    "# Query database and assign result to wintry_days\n",
    "wintry_days = pd.read_sql(query,engine)\n",
    "\n",
    "# View summary stats about the temperatures\n",
    "print(wintry_days.describe())"
   ]
  },
  {
   "cell_type": "markdown",
   "id": "described-guinea",
   "metadata": {},
   "source": [
    "Consultas com `GROUP BY`\n",
    "---"
   ]
  },
  {
   "cell_type": "code",
   "execution_count": null,
   "id": "juvenile-productivity",
   "metadata": {},
   "outputs": [],
   "source": [
    "# Create query to get call counts by complaint_type\n",
    "query = \"\"\"\n",
    "SELECT complaint_type, \n",
    "     count(*)\n",
    "  FROM hpd311calls\n",
    "  GROUP BY  complaint_type;\n",
    "\"\"\"\n",
    "\n",
    "# Create data frame of call counts by issue\n",
    "calls_by_issue = pd.read_sql(query, engine)\n",
    "\n",
    "# Graph the number of calls for each housing issue\n",
    "calls_by_issue.plot.barh(x=\"complaint_type\")\n",
    "plt.show()"
   ]
  },
  {
   "cell_type": "code",
   "execution_count": null,
   "id": "powered-library",
   "metadata": {},
   "outputs": [],
   "source": [
    "# Create query to get temperature and precipitation by month\n",
    "query = \"\"\"\n",
    "SELECT month, \n",
    "        MAX(tmax), \n",
    "        MIN(tmin),\n",
    "        SUM(prcp)\n",
    "  FROM weather \n",
    " GROUP BY month;\n",
    "\"\"\"\n",
    "\n",
    "# Get data frame of monthly weather stats\n",
    "weather_by_month = pd.read_sql(query, engine)\n",
    "\n",
    "# View weather stats by month\n",
    "print(weather_by_month)"
   ]
  },
  {
   "cell_type": "markdown",
   "id": "optimum-principal",
   "metadata": {},
   "source": [
    "Consultas com `JOIN`\n",
    "---"
   ]
  },
  {
   "cell_type": "code",
   "execution_count": null,
   "id": "naval-limitation",
   "metadata": {},
   "outputs": [],
   "source": [
    "# Modify query to join tmax and tmin from weather by date\n",
    "query = \"\"\"\n",
    "SELECT hpd311calls.created_date, \n",
    "       COUNT(*), \n",
    "       weather.tmax, \n",
    "       weather.tmin\n",
    "  FROM hpd311calls \n",
    "       JOIN weather \n",
    "       ON hpd311calls.created_date = weather.date\n",
    " WHERE hpd311calls.complaint_type = 'HEAT/HOT WATER' \n",
    " GROUP BY hpd311calls.created_date;\n",
    " \"\"\"\n",
    "\n",
    "# Query database and save results as df\n",
    "df = pd.read_sql(query, engine)\n",
    "\n",
    "# View first 5 records\n",
    "print(df.head())"
   ]
  },
  {
   "cell_type": "markdown",
   "id": "stable-devil",
   "metadata": {},
   "source": [
    "---\n",
    "# Introdução a JSON\n",
    "\n",
    "Notação de Objeto Javascript (JSON):\n",
    "--\n",
    "- Formato comum de dados web\n",
    "- Não tabular\n",
    "> Os registros não precisam ter todos o mesmo conjunto de homenagens\n",
    "- Dados organizados em coleções de objetos\n",
    "- Os objetos são coleções de pares de valores de tributo\n",
    "- JSON aninhado: objetos dentro de objetos"
   ]
  },
  {
   "cell_type": "markdown",
   "id": "coated-runner",
   "metadata": {},
   "source": []
  },
  {
   "cell_type": "code",
   "execution_count": null,
   "id": "committed-vehicle",
   "metadata": {},
   "outputs": [],
   "source": [
    "# Load pandas as pd\n",
    "import pandas as pd\n",
    "\n",
    "# Load the daily report to a data frame\n",
    "pop_in_shelters = pd.read_json('dhs_daily_report.json')\n",
    "\n",
    "# View summary stats about pop_in_shelters\n",
    "print(pop_in_shelters.describe())"
   ]
  },
  {
   "cell_type": "markdown",
   "id": "swiss-campaign",
   "metadata": {},
   "source": [
    "Trabalhe com orientações JSON\n",
    "---\n",
    "\n",
    "JSON não é um formato tabular, portanto, `pandas` faz suposições sobre sua orientação ao carregar dados. A maioria dos dados JSON que você encontrar estarão em orientações que `pandas` podem se transformar automaticamente em um quadro de dados.\n",
    "\n",
    "Às vezes, como nesta versão modificada do Relatório Diário do Departamento de Serviços de Desabrigados, os dados são orientados de forma diferente. Para reduzir o tamanho do arquivo, ele foi `split` formatado. Você verá o que acontece quando tenta carregá-lo normalmente em comparação com o `orient` argumento de palavra - chave. O `try/except` bloco irá alertá-lo se houver erros ao carregar os dados."
   ]
  },
  {
   "cell_type": "code",
   "execution_count": null,
   "id": "egyptian-executive",
   "metadata": {},
   "outputs": [],
   "source": [
    "try:\n",
    "    # Load the JSON with orient specified\n",
    "    df = pd.read_json(\"dhs_report_reformatted.json\",\n",
    "                      orient = 'split')\n",
    "    \n",
    "    # Plot total population in shelters over time\n",
    "    df[\"date_of_census\"] = pd.to_datetime(df[\"date_of_census\"])\n",
    "    df.plot(x=\"date_of_census\", \n",
    "            y=\"total_individuals_in_shelter\")\n",
    "    plt.show()\n",
    "    \n",
    "except ValueError:\n",
    "    print(\"pandas could not parse the JSON.\")"
   ]
  },
  {
   "cell_type": "markdown",
   "id": "attached-linux",
   "metadata": {},
   "source": [
    "# API\n",
    "\n",
    "requests.get()\n",
    "--\n",
    "\n",
    "`requests.get(url_string)` para obter dados de um URL\n",
    "- Argumentos com palavras-chave:\n",
    "> - `params` keyword: toma um dicionário de parâmetros e valores para personalizar o pedido de API\n",
    "> - `headers` keyword: leva um dicionário, pode ser usado para fornecer autenticação de usuário à API\n",
    "- Resultado: um objeto de `response`, contendo dados e metadados\n",
    "`response.json()` retornará apenas os dados do JSON"
   ]
  },
  {
   "cell_type": "code",
   "execution_count": null,
   "id": "swedish-highland",
   "metadata": {},
   "outputs": [],
   "source": [
    "api_url = \"https://api.yelp.com/v3/businesses/search\"\n",
    "\n",
    "# Set up parameter dictionary according to documentation\n",
    "params = {\"term\": \"bookstore\",\n",
    "          \"location\": \"San Francisco\"}\n",
    "\n",
    "# Set up header dictionary w/ API key according to documentation\n",
    "headers = {\"Authorization\": \"Bearer {}\".format(api_key)}\n",
    "\n",
    "# Get data about NYC cafes from the Yelp API\n",
    "response = requests.get(api_url, \n",
    "                        headers=headers, \n",
    "                        params=params)\n",
    "\n",
    "# Extract JSON data from the response\n",
    "data = response.json()\n",
    "\n",
    "# Load data to a data frame\n",
    "cafes = pd.DataFrame(data[\"businesses\"])\n",
    "\n",
    "# View the data's dtypes\n",
    "print(cafes.dtypes)"
   ]
  }
 ],
 "metadata": {
  "kernelspec": {
   "display_name": "Python 3",
   "language": "python",
   "name": "python3"
  },
  "language_info": {
   "codemirror_mode": {
    "name": "ipython",
    "version": 3
   },
   "file_extension": ".py",
   "mimetype": "text/x-python",
   "name": "python",
   "nbconvert_exporter": "python",
   "pygments_lexer": "ipython3",
   "version": "3.7.4"
  }
 },
 "nbformat": 4,
 "nbformat_minor": 5
}
