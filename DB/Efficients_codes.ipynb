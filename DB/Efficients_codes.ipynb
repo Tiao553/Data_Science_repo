{
 "cells": [
  {
   "cell_type": "markdown",
   "id": "ahead-country",
   "metadata": {},
   "source": [
    "Created by **Sebastião Ferreira de Paula Neto**\n",
    "--\n",
    "\n",
    "References by [DataCamp](https://learn.datacamp.com/courses/writing-efficient-python-code) e [Pandas](https://pandas.pydata.org/docs/index.html)\n",
    "--"
   ]
  },
  {
   "cell_type": "markdown",
   "id": "micro-bookmark",
   "metadata": {},
   "source": [
    "Neste notebook vamos abordar todo caminho que deve ser percorrido por um cientista de dados quando buscamos otimizar nosso codigo em python.\n",
    "--\n",
    "\n",
    "Dessa forma vamos abordar os seguites **tópicos:**\n",
    "\n",
    "> - Fundamentos de eficiência em pyhton \n",
    "> - Tempo e memória de execução\n",
    "> - Aprefundamento em cases de eficiência\n",
    "> - Otimização e junção destes conceitos ao `pandas`\n",
    "\n",
    "---\n",
    "# TOPIC 1: Fundamentos de eficiência em pyhton \n",
    "\n",
    "Para definirmos eficiência levamos em consideração dosi topicos em especial:\n",
    "> Rápida execução e pequena quantidade de memória.\n",
    "\n",
    "Para isso foi criada uma seria de ações chamada **\"The Zen of Python by Tim Peters\"** cujo os principios são:\n",
    "\n",
    "> - Bonito é melhor do que feio.\n",
    "> - Explicito é melhor do que implícito.\n",
    "> - Simples é melhor do que complexo.\n",
    "> - Complexo é melhor do que complicado.\n",
    "> - Liso é melhor do que aninhado.\n",
    "> - O esparso é melhor que o denso.\n",
    "> - A legibilidade conta.\n",
    "> - Os casos especiais não são suficientemente especiais para quebrar as regras.\n",
    "> - Embora a praticabilidade seja melhor que a pureza.\n",
    "> - Os erros nunca devem passar silenciosamente.\n",
    "> - A menos que sejam explicitamente silenciados.\n",
    "> - Perante a ambiguidade, recusar a tentação de adivinhar.\n",
    "\n",
    "Como exemplo incial, vamos ver 3 situações:\n",
    "--"
   ]
  },
  {
   "cell_type": "code",
   "execution_count": 11,
   "id": "indirect-candle",
   "metadata": {},
   "outputs": [
    {
     "name": "stdout",
     "output_type": "stream",
     "text": [
      "['Kramer', 'Elaine', 'George', 'Newman']\n",
      "['Kramer', 'Elaine', 'George', 'Newman']\n",
      "['Kramer', 'Elaine', 'George', 'Newman']\n"
     ]
    }
   ],
   "source": [
    "# Print the list created using the Non-Pythonic approach\n",
    "i = 0\n",
    "names = ['Jerry', 'Kramer', 'Elaine', 'George', 'Newman']\n",
    "new_list= []\n",
    "while i < len(names):\n",
    "    if len(names[i]) >= 6:\n",
    "        new_list.append(names[i])\n",
    "    i += 1\n",
    "print(new_list)\n",
    "\n",
    "# Print the list created by looping over the contents of names\n",
    "better_list = []\n",
    "for name in names:\n",
    "    if len(name) >= 6:\n",
    "        better_list.append(name)\n",
    "print(better_list)\n",
    "\n",
    "# Print the list created by using list comprehension\n",
    "best_list = [name for name in names if len(name) >= 6]\n",
    "print(best_list)"
   ]
  },
  {
   "cell_type": "markdown",
   "id": "beneficial-accountability",
   "metadata": {},
   "source": [
    "Neste caso, as três formas tiveram as mesmas saidas, mas o que isso pode implicar se pesarmos em um caso macro?\n",
    "--\n",
    "\n",
    "Isto que desejamos demostrar neste documento, quando escalonamos nosso código para muitos dados ou muitas ações é desejado que otimizemos isso ao máximo.\n",
    "\n",
    "> Afinal, \"Tempo é dinheiro\"\n",
    "\n",
    "Brincadeiras a parte, iremos mostrar como avaliar a execução do seu codigo e forma de otimiza-lo.  Voltando ao exemplo acima podemos verificar o mesmo codigo de 3 formas diferentes e **por que não otimizado?**\n",
    "\n",
    "Se olharmos para outras linguagens isso poderia realmente ser um tipo de otimização, mas no `python` essa otimização possui ainda mais ferramentas para garantir a maxima otimização. Para isso contamos com 3 funções nativas do python que nos ajuda a ser as **\"The Zen of Python by Tim Peters\"** e garantir uma melhor eficiência:\n",
    "\n",
    "> - `range()`:  a função range cria uma sequência de números.\n",
    "> - `enumerate()`: Como o própio nome diz, enumera um conjunto de dados, ou seja indexa.\n",
    "> - `map()`: Aplica uma função a um conjunto de dados.\n",
    "\n",
    "Vamos a alguns exemplos:\n",
    "--"
   ]
  },
  {
   "cell_type": "code",
   "execution_count": 26,
   "id": "million-sterling",
   "metadata": {},
   "outputs": [
    {
     "name": "stdout",
     "output_type": "stream",
     "text": [
      "<class 'range'> \n",
      "\n",
      "[0, 1, 2, 3, 4, 5] \n",
      "\n",
      "[1, 3, 5, 7, 9, 11]\n"
     ]
    }
   ],
   "source": [
    "# Create a range object that goes from 0 to 5\n",
    "nums = range(6)\n",
    "print(type(nums),\"\\n\")\n",
    "\n",
    "# Convert nums to a list\n",
    "nums_list = list(nums)\n",
    "print(nums_list,'\\n')\n",
    "\n",
    "# Create a new list of odd numbers from 1 to 11 by unpacking a range object\n",
    "nums_list2 = [*range(1,12,2)]\n",
    "print(nums_list2)"
   ]
  },
  {
   "cell_type": "code",
   "execution_count": 12,
   "id": "latin-discussion",
   "metadata": {},
   "outputs": [
    {
     "name": "stdout",
     "output_type": "stream",
     "text": [
      "[(0, 'Jerry'), (1, 'Kramer'), (2, 'Elaine'), (3, 'George'), (4, 'Newman')]\n",
      "[(0, 'Jerry'), (1, 'Kramer'), (2, 'Elaine'), (3, 'George'), (4, 'Newman')]\n",
      "[(1, 'Jerry'), (2, 'Kramer'), (3, 'Elaine'), (4, 'George'), (5, 'Newman')]\n"
     ]
    }
   ],
   "source": [
    "# Rewrite the for loop to use enumerate\n",
    "indexed_names = []\n",
    "for i,name in enumerate(names):\n",
    "    index_name = (i,name)\n",
    "    indexed_names.append(index_name) \n",
    "print(indexed_names)\n",
    "\n",
    "# Rewrite the above for loop using list comprehension\n",
    "indexed_names_comp = [(i,name) for i,name in enumerate(names)]\n",
    "print(indexed_names_comp)\n",
    "\n",
    "# Unpack an enumerate object with a starting index of one\n",
    "indexed_names_unpack = [*enumerate(names, 1)]\n",
    "print(indexed_names_unpack)"
   ]
  },
  {
   "cell_type": "code",
   "execution_count": 13,
   "id": "formed-incidence",
   "metadata": {},
   "outputs": [
    {
     "name": "stdout",
     "output_type": "stream",
     "text": [
      "<class 'map'>\n",
      "['JERRY', 'KRAMER', 'ELAINE', 'GEORGE', 'NEWMAN']\n"
     ]
    }
   ],
   "source": [
    "# Use map to apply str.upper to each element in names\n",
    "names_map  = map(str.upper, names)\n",
    "\n",
    "# Print the type of the names_map\n",
    "print(type(names_map),'\\n')\n",
    "\n",
    "# Unpack names_map into a list\n",
    "names_uppercase = [*names_map]\n",
    "\n",
    "# Print the list created above\n",
    "print(names_uppercase)"
   ]
  },
  {
   "cell_type": "code",
   "execution_count": 25,
   "id": "characteristic-formula",
   "metadata": {},
   "outputs": [
    {
     "name": "stdout",
     "output_type": "stream",
     "text": [
      "[ 6  7  8  9 10] \n",
      "\n",
      "[ 7  8  9 10] \n",
      "\n",
      "[[ 2  4  8  8 10]\n",
      " [12 14 16 18 20]] \n",
      "\n",
      "[[ 1  2  5  4  5]\n",
      " [ 6  7  9  9 10]] \n",
      "\n"
     ]
    }
   ],
   "source": [
    "import numpy as np\n",
    "nums = np.array([[ 1,  2,  4,  4,  5],\n",
    "                 [ 6,  7,  8,  9, 10]])\n",
    "\n",
    "# Print second row of nums\n",
    "print(nums[1,:], \"\\n\")\n",
    "\n",
    "# Print all elements of nums that are greater than six\n",
    "print(nums[nums > 6],\"\\n\")\n",
    "\n",
    "# Double every element of nums\n",
    "nums_dbl = nums * 2\n",
    "print(nums_dbl,\"\\n\")\n",
    "\n",
    "# Replace the third column of nums\n",
    "nums[:,2] = nums[:,2] + 1\n",
    "print(nums,\"\\n\")"
   ]
  },
  {
   "cell_type": "markdown",
   "id": "tight-entity",
   "metadata": {},
   "source": [
    "---\n",
    "# TÓPICO 2: Tempo e memória de execução\n",
    "\n",
    "Neste tópico vamos demonstrar formas de examinar o seu código e para isso vamos divir esse tópico em três sessões:\n",
    "> - Tempo de execução\n",
    "> - Proffiling codes\n",
    "> - Proffiling codes para uso de mémoria"
   ]
  },
  {
   "cell_type": "markdown",
   "id": "conservative-cleaners",
   "metadata": {},
   "source": [
    "Runing time\n",
    "--\n",
    "\n",
    "Nesta sessão vamos utilizar funções nativas do python de verificação tempo de execução, em algumas IDE's ja vem de forma visual, mas em consoles é ncessários força-las para verificação.\n",
    "\n",
    "Para conhecer mais sobre estas funções sugiro buscar mais fundo na documentação, acessando ao [link](https://ipython.readthedocs.io/en/stable/interactive/magics.html).\n",
    "\n",
    "Vamos à alguns exemplos:\n",
    "--\n"
   ]
  },
  {
   "cell_type": "code",
   "execution_count": 5,
   "id": "distributed-trustee",
   "metadata": {},
   "outputs": [
    {
     "name": "stdout",
     "output_type": "stream",
     "text": [
      "1.86 µs ± 13.9 ns per loop (mean ± std. dev. of 7 runs, 100000 loops each)\n",
      "657 ns ± 44.2 ns per loop (mean ± std. dev. of 7 runs, 1000000 loops each)\n"
     ]
    }
   ],
   "source": [
    "# Create a list of integers (0-50) using list comprehension\n",
    "%timeit nums_list_comp = [num for num in range(51)]\n",
    "\n",
    "# Create a list of integers (0-50) by unpacking range\n",
    "%timeit nums_unpack = [*range(51)]"
   ]
  },
  {
   "cell_type": "code",
   "execution_count": 1,
   "id": "integral-broadcast",
   "metadata": {},
   "outputs": [
    {
     "name": "stdout",
     "output_type": "stream",
     "text": [
      "114 ns ± 25.9 ns per loop (mean ± std. dev. of 5 runs, 25 loops each)\n",
      "150 ns ± 245 ns per loop (mean ± std. dev. of 5 runs, 25 loops each)\n"
     ]
    }
   ],
   "source": [
    "# formal name  <>  literal syntax\n",
    "%timeit -r5 -n25 formal=list()\n",
    "\n",
    "%timeit -r5 -n25 literal=[]"
   ]
  },
  {
   "cell_type": "markdown",
   "id": "medical-blink",
   "metadata": {},
   "source": [
    "Proffiling code\n",
    "--\n",
    "\n",
    "Nesta etapa relizamos algumas analises pontuais e ela tem carecter de macro para micro, ou sejas:\n",
    "\n",
    "> - Análises linha a linha\n",
    "> - Estatísticas detalhadas sobre a frequência e duração das chamadas de funções \n",
    "> - Pack utilizado: line_profiler\n",
    "\n",
    "Para isso precissamos baixar o pack, para isso execute no seu console a seguinte rotina:\n",
    "\n",
    "`pip install line_profiler`\n",
    "--\n",
    "\n",
    "Para executar o `line_profiler`executamos:"
   ]
  },
  {
   "cell_type": "code",
   "execution_count": 27,
   "id": "present-victim",
   "metadata": {},
   "outputs": [
    {
     "name": "stdout",
     "output_type": "stream",
     "text": [
      "The line_profiler extension is already loaded. To reload it, use:\n",
      "  %reload_ext line_profiler\n"
     ]
    }
   ],
   "source": [
    "%load_ext line_profiler"
   ]
  },
  {
   "cell_type": "code",
   "execution_count": 35,
   "id": "weekly-reflection",
   "metadata": {},
   "outputs": [],
   "source": [
    "heroes = ['Batman','Superman','Wonder Woman']\n",
    "hts = np.array([188.0, 191.0, 183.0])\n",
    "wts = np.array([ 95.0, 101.0, 74.0])"
   ]
  },
  {
   "cell_type": "code",
   "execution_count": 36,
   "id": "southeast-organization",
   "metadata": {},
   "outputs": [
    {
     "data": {
      "text/plain": [
       "Timer unit: 1e-07 s\n",
       "\n",
       "Total time: 2.99e-05 s\n",
       "File: <ipython-input-36-5e554e3ac995>\n",
       "Function: convert_units at line 1\n",
       "\n",
       "Line #      Hits         Time  Per Hit   % Time  Line Contents\n",
       "==============================================================\n",
       "     1                                           def convert_units(heroes, heights, weights):\n",
       "     2                                           \n",
       "     3         1        149.0    149.0     49.8      new_hts = [ht * 0.39370  for ht in heights]\n",
       "     4         1         51.0     51.0     17.1      new_wts = [wt * 2.20462  for wt in weights]\n",
       "     5                                           \n",
       "     6         1         10.0     10.0      3.3      hero_data = {}\n",
       "     7                                           \n",
       "     8         4         48.0     12.0     16.1      for i,hero in enumerate(heroes):\n",
       "     9         3         33.0     11.0     11.0          hero_data[hero] = (new_hts[i], new_wts[i])\n",
       "    10                                           \n",
       "    11         1          8.0      8.0      2.7      return hero_data"
      ]
     },
     "metadata": {},
     "output_type": "display_data"
    }
   ],
   "source": [
    "def convert_units(heroes, heights, weights):\n",
    "\n",
    "    new_hts = [ht * 0.39370  for ht in heights]\n",
    "    new_wts = [wt * 2.20462  for wt in weights]\n",
    "\n",
    "    hero_data = {}\n",
    "\n",
    "    for i,hero in enumerate(heroes):\n",
    "        hero_data[hero] = (new_hts[i], new_wts[i])\n",
    "\n",
    "    return hero_data\n",
    "\n",
    "%lprun -f convert_units convert_units(heroes, hts, wts)"
   ]
  },
  {
   "cell_type": "markdown",
   "id": "concerned-reference",
   "metadata": {},
   "source": [
    "Realizando alguma das otimizações mostradas podemos verificar novamente a redução do tempo de execução, com abaixo:\n",
    "--"
   ]
  },
  {
   "cell_type": "code",
   "execution_count": 30,
   "id": "significant-representative",
   "metadata": {},
   "outputs": [
    {
     "data": {
      "text/plain": [
       "Timer unit: 1e-07 s\n",
       "\n",
       "Total time: 2.48e-05 s\n",
       "File: <ipython-input-29-5e554e3ac995>\n",
       "Function: convert_units at line 1\n",
       "\n",
       "Line #      Hits         Time  Per Hit   % Time  Line Contents\n",
       "==============================================================\n",
       "     1                                           def convert_units(heroes, heights, weights):\n",
       "     2                                           \n",
       "     3         1        127.0    127.0     51.2      new_hts = [ht * 0.39370  for ht in heights]\n",
       "     4         1         40.0     40.0     16.1      new_wts = [wt * 2.20462  for wt in weights]\n",
       "     5                                           \n",
       "     6         1          8.0      8.0      3.2      hero_data = {}\n",
       "     7                                           \n",
       "     8         4         38.0      9.5     15.3      for i,hero in enumerate(heroes):\n",
       "     9         3         29.0      9.7     11.7          hero_data[hero] = (new_hts[i], new_wts[i])\n",
       "    10                                           \n",
       "    11         1          6.0      6.0      2.4      return hero_data"
      ]
     },
     "metadata": {},
     "output_type": "display_data"
    }
   ],
   "source": [
    "def convert_units_broadcast(heroes, heights, weights):\n",
    "\n",
    "    # Array broadcasting instead of list comprehension\n",
    "    new_hts = heights * 0.39370\n",
    "    new_wts = weights * 2.20462\n",
    "\n",
    "    hero_data = {}\n",
    "\n",
    "    for i,hero in enumerate(heroes):\n",
    "        hero_data[hero] = (new_hts[i], new_wts[i])\n",
    "\n",
    "    return hero_data\n",
    "\n",
    "%lprun -f convert_units convert_units(heroes, hts, wts)"
   ]
  },
  {
   "cell_type": "markdown",
   "id": "characteristic-hometown",
   "metadata": {},
   "source": [
    "Proffiling codes para uso de memoria\n",
    "--\n"
   ]
  },
  {
   "cell_type": "markdown",
   "id": "reliable-simpson",
   "metadata": {},
   "source": [
    "A verificação do uso de memória referece diretamente com a otimização, pois se está gastando menos memória teremos uma melhor execução e uma maior velocidade. Será verdade esta afirmação?\n",
    "\n",
    "Podemos fazer a verificação de uso de memória por duas maneiras, ou pontualmente ou com `memory_profiler`. Dessa maneira vamos verificar a forma pontual.\n",
    "\n",
    "`pip instal memory_profiler`\n",
    "--\n",
    "\n",
    "Pontual\n",
    "--"
   ]
  },
  {
   "cell_type": "code",
   "execution_count": 31,
   "id": "framed-prefix",
   "metadata": {},
   "outputs": [],
   "source": [
    "import sys"
   ]
  },
  {
   "cell_type": "code",
   "execution_count": 32,
   "id": "polar-glenn",
   "metadata": {},
   "outputs": [
    {
     "name": "stdout",
     "output_type": "stream",
     "text": [
      "9112 \n",
      "\n",
      "4096\n"
     ]
    }
   ],
   "source": [
    "# Primeira forma\n",
    "nums_list = [*range(1000)]\n",
    "print(sys.getsizeof(nums_list),\"\\n\")\n",
    "\n",
    "# Segunda Forma\n",
    "nums_np = np.array(range(1000))\n",
    "print(sys.getsizeof(nums_np))"
   ]
  },
  {
   "cell_type": "markdown",
   "id": "european-lease",
   "metadata": {},
   "source": [
    "memory_profiler\n",
    "--\n",
    "\n",
    "vai detalhar pontamente seu codigo com uso de memoria, ou seja:\n",
    "\n",
    "> - Estatísticas detalhadas sobre o consumo de memória\n",
    "> - Análises linha a linha"
   ]
  },
  {
   "cell_type": "code",
   "execution_count": 33,
   "id": "virtual-stretch",
   "metadata": {},
   "outputs": [],
   "source": [
    "# carregando o memory profiler\n",
    "%load_ext memory_profiler"
   ]
  },
  {
   "cell_type": "code",
   "execution_count": 37,
   "id": "legal-yacht",
   "metadata": {},
   "outputs": [
    {
     "name": "stdout",
     "output_type": "stream",
     "text": [
      "ERROR: Could not find file <ipython-input-36-5e554e3ac995>\n",
      "NOTE: %mprun can only be used on functions defined in physical files, and not in the IPython environment.\n",
      "\n"
     ]
    },
    {
     "data": {
      "text/plain": []
     },
     "metadata": {},
     "output_type": "display_data"
    }
   ],
   "source": [
    "# executando com uma função ja inicializado no console\n",
    "%mprun -f convert_units convert_units(heroes, hts, wts)"
   ]
  },
  {
   "cell_type": "markdown",
   "id": "french-completion",
   "metadata": {},
   "source": [
    "---\n",
    "# TOPIC 3: Efficiente combinação, contagem e iteração\n",
    "\n",
    "Existem muitas formas de realizar essas otimizações e as bibliotecas e ate metodos primitivos do python nos ajudam a atingir essas espectativas para isso temos: \n",
    " - Tipos de dados especializados de contentores\n",
    " > - Alternativas a ditar de propósito geral, listar, definir, e tuple\n",
    " - Notável:\n",
    "> - `namedtuple` : subclasses tuple com campos de nomes\n",
    "> - `deque` : contendor tipo lista com rápidos `append`s e `pop`s\n",
    "> - `counter` : ditado para a contagem de objectos hashable\n",
    "> - `OrderedDict` : dict que mantém a ordem das entradas\n",
    "> - `defaultdict` : dict que chama uma factory function para fornecer valores em falta\n",
    "\n",
    "\n",
    "Primeiramente vamos falar sobre as otimizações referentes a contagem.\n",
    "--\n",
    "\n",
    "\n",
    "Neste etapa podemos ter como ferramentas para criar e usar iteração e elas são divididas em 3 topicos :\n",
    "> - **inifinte itarators:** `count`, `cycle`, `repeat`\n",
    "> - **finite itarators:** `accumulate`, `chain`, `zip_longest`, entre outros\n",
    "> - **combinations generators:** `product`, `permuttations`, `combinations`"
   ]
  },
  {
   "cell_type": "markdown",
   "id": "rough-salvation",
   "metadata": {},
   "source": [
    "Agregando e combinando\n",
    "--"
   ]
  },
  {
   "cell_type": "code",
   "execution_count": 45,
   "id": "consolidated-taxation",
   "metadata": {},
   "outputs": [],
   "source": [
    "names = ['Abomasnow', 'Abra', 'Absol', 'Accelgor', 'Aerodactyl']\n",
    "primary_types = ['Grass', 'Psychic', 'Dark', 'Bug', 'Rock']\n",
    "secondary_types = ['Ice', np.nan, np.nan, np.nan, 'Flying']"
   ]
  },
  {
   "cell_type": "code",
   "execution_count": 42,
   "id": "modern-scholarship",
   "metadata": {},
   "outputs": [
    {
     "name": "stdout",
     "output_type": "stream",
     "text": [
      "('Abomasnow', 'Grass')\n",
      "('Abra', 'Psychic')\n",
      "('Absol', 'Dark')\n",
      "('Accelgor', 'Bug')\n",
      "('Aerodactyl', 'Rock')\n"
     ]
    }
   ],
   "source": [
    "# Combine names and primary_types\n",
    "names_type1 = [*zip(names,primary_types)]\n",
    "\n",
    "print(*names_type1[:5], sep='\\n')"
   ]
  },
  {
   "cell_type": "code",
   "execution_count": 43,
   "id": "identical-friday",
   "metadata": {},
   "outputs": [
    {
     "name": "stdout",
     "output_type": "stream",
     "text": [
      "('Abomasnow', 'Grass', 'Ice')\n",
      "('Abra', 'Psychic', nan)\n",
      "('Absol', 'Dark', nan)\n",
      "('Accelgor', 'Bug', nan)\n",
      "('Aerodactyl', 'Rock', 'Flying')\n"
     ]
    }
   ],
   "source": [
    "# Combine all three lists together\n",
    "names_types = [*zip(names, primary_types, secondary_types)]\n",
    "\n",
    "print(*names_types[:5], sep='\\n')"
   ]
  },
  {
   "cell_type": "code",
   "execution_count": 44,
   "id": "fatty-valuation",
   "metadata": {},
   "outputs": [
    {
     "name": "stdout",
     "output_type": "stream",
     "text": [
      "('Abomasnow', 'Grass')\n",
      "('Abra', 'Psychic')\n",
      "('Absol', 'Dark')\n"
     ]
    }
   ],
   "source": [
    "# Combine five items from names and three items from primary_types\n",
    "differing_lengths = [*zip(names[:4],primary_types[:3])]\n",
    "\n",
    "print(*differing_lengths, sep='\\n')"
   ]
  },
  {
   "cell_type": "markdown",
   "id": "signed-singer",
   "metadata": {},
   "source": [
    "Combinations\n",
    "--"
   ]
  },
  {
   "cell_type": "code",
   "execution_count": 47,
   "id": "leading-heather",
   "metadata": {},
   "outputs": [
    {
     "name": "stdout",
     "output_type": "stream",
     "text": [
      "<class 'itertools.combinations'> \n",
      "\n",
      "[('Abomasnow', 'Abra'), ('Abomasnow', 'Absol'), ('Abomasnow', 'Accelgor'), ('Abomasnow', 'Aerodactyl'), ('Abra', 'Absol'), ('Abra', 'Accelgor'), ('Abra', 'Aerodactyl'), ('Absol', 'Accelgor'), ('Absol', 'Aerodactyl'), ('Accelgor', 'Aerodactyl')] \n",
      "\n",
      "[('Abomasnow', 'Abra', 'Absol', 'Accelgor'), ('Abomasnow', 'Abra', 'Absol', 'Aerodactyl'), ('Abomasnow', 'Abra', 'Accelgor', 'Aerodactyl'), ('Abomasnow', 'Absol', 'Accelgor', 'Aerodactyl'), ('Abra', 'Absol', 'Accelgor', 'Aerodactyl')]\n"
     ]
    }
   ],
   "source": [
    "# Import combinations from itertools\n",
    "from itertools import combinations\n",
    "\n",
    "# Create a combination object with pairs of Pokémon\n",
    "combos_obj = combinations(names, 2)\n",
    "print(type(combos_obj), '\\n')\n",
    "\n",
    "# Convert combos_obj to a list by unpacking\n",
    "combos_2 = [*combos_obj]\n",
    "print(combos_2, '\\n')\n",
    "\n",
    "# Collect all possible combinations of 4 Pokémon directly into a list\n",
    "combos_4 = [*combinations(names, 4)]\n",
    "print(combos_4)"
   ]
  },
  {
   "cell_type": "markdown",
   "id": "unavailable-blowing",
   "metadata": {},
   "source": [
    "Counter\n",
    "--"
   ]
  },
  {
   "cell_type": "code",
   "execution_count": 40,
   "id": "ecological-brick",
   "metadata": {},
   "outputs": [
    {
     "name": "stdout",
     "output_type": "stream",
     "text": [
      "Counter({'Grass': 1, 'Psychic': 1, 'Dark': 1, 'Bug': 1, 'Rock': 1}) \n",
      "\n",
      "Counter({'A': 5})\n"
     ]
    }
   ],
   "source": [
    "# Import metod\n",
    "from collections import Counter\n",
    "\n",
    "# Collect the count of primary types\n",
    "type_count = Counter(primary_types)\n",
    "print(type_count, '\\n')\n",
    "\n",
    "# Use list comprehension to get each Pokémon's starting letter\n",
    "starting_letters = [name[0] for name in names]\n",
    "\n",
    "# Collect the count of Pokémon for each starting_letter\n",
    "starting_letters_count = Counter(starting_letters)\n",
    "print(starting_letters_count)"
   ]
  },
  {
   "cell_type": "markdown",
   "id": "modified-communication",
   "metadata": {},
   "source": [
    "`set` e suas possibilidades\n",
    "--\n",
    "Quando pensamos em Set muitas vezes esbarramos na teoria de conjuntos, podemos dizer ate mesmo da linguagem SQL. Python tem incorporado nativamente como:\n",
    "\n",
    "> - `intersection()` : todos os elementos que estão em ambos os conjuntos\n",
    "> - `difference()` : todos os elementos de um conjunto mas não do outro simétrico\n",
    "> - `symmetrics_difference()` : todos os elementos num só conjunto\n",
    "> - `union()` : todos os elementos que estão em qualquer um dos conjuntos\n",
    "\n",
    "Testes rápidos de adesão, para isso utilizamos o operador `in` e `not in`.\n",
    "--\n",
    "\n",
    "Logo vamos à alguns testes, assim iniciando os dados para testes."
   ]
  },
  {
   "cell_type": "code",
   "execution_count": 60,
   "id": "innovative-tobacco",
   "metadata": {},
   "outputs": [],
   "source": [
    "ash_pokedex = ['Pikachu', 'Bulbasaur', 'Koffing', 'Spearow', 'Vulpix', 'Wigglytuff', 'Zubat', 'Rattata', 'Psyduck', 'Squirtle'] \n",
    "\n",
    "misty_pokedex =  ['Krabby', 'Horsea', 'Slowbro', 'Tentacool', 'Vaporeon', 'Magikarp', 'Poliwag', 'Starmie', 'Psyduck', 'Squirtle']\n",
    "    \n",
    "brock_pokedex = ['Tauros', 'Omastar', 'Geodude', 'Vulpix', 'Kabutops', 'Dugtrio', 'Golem', 'Zubat', 'Onix', 'Machop']\n",
    "\n",
    "names = ['Milotic', 'Buizel', 'Frogadier', 'Ledyba', 'Articuno', 'Onix', 'Haxorus',\n",
    "         'Minccino', 'Sceptile', 'MeowsticMale', 'Grovyle', 'Spritzee', \n",
    "         'Goodra', 'Hippopotas', 'Salamence', 'Vespiquen', 'Ho-oh', 'WormadamTrash Cloak',\n",
    "         'Electrike', 'Minun', 'Ivysaur', 'Wingull']\n",
    "\n",
    "generations = [2, 4, 4, 4, 3, 5, 4, 1, 5, 3, 3, 5, 4, 1, 6, 3, 5, 3, 4, 2, 3, 1, 3, 6, 3, 5, 5, 1, 3, 1, 6, 1, 1, 3, \n",
    "               5, 3, 5, 2, 3, 3, 1, 6, 1, 5, 6, 4, 6, 5, 3, 4, 1, 3, 6, 6, 5, 3, 3]"
   ]
  },
  {
   "cell_type": "code",
   "execution_count": 50,
   "id": "cubic-chain",
   "metadata": {},
   "outputs": [
    {
     "name": "stdout",
     "output_type": "stream",
     "text": [
      "{'Squirtle', 'Psyduck'} \n",
      "\n",
      "{'Wigglytuff', 'Pikachu', 'Spearow', 'Koffing', 'Zubat', 'Bulbasaur', 'Rattata', 'Vulpix'} \n",
      "\n",
      "{'Wigglytuff', 'Pikachu', 'Horsea', 'Starmie', 'Spearow', 'Poliwag', 'Koffing', 'Magikarp', 'Vaporeon', 'Zubat', 'Tentacool', 'Bulbasaur', 'Krabby', 'Rattata', 'Slowbro', 'Vulpix'} \n",
      "\n"
     ]
    }
   ],
   "source": [
    "# Convert both lists to sets\n",
    "ash_set = set(ash_pokedex)\n",
    "misty_set = set(misty_pokedex)\n",
    "\n",
    "# Find the Pokémon that exist in both sets\n",
    "both = ash_set.intersection(misty_set)\n",
    "print(both,'\\n')\n",
    "\n",
    "# Find the Pokémon that Ash has and Misty does not have\n",
    "ash_only = ash_set.difference(misty_set)\n",
    "print(ash_only,'\\n')\n",
    "\n",
    "# Find the Pokémon that are in only one set (not both)\n",
    "unique_to_set = ash_set.symmetric_difference(misty_set)\n",
    "print(unique_to_set,'\\n')"
   ]
  },
  {
   "cell_type": "code",
   "execution_count": 51,
   "id": "several-homework",
   "metadata": {},
   "outputs": [
    {
     "name": "stdout",
     "output_type": "stream",
     "text": [
      "{'Geodude', 'Golem', 'Tauros', 'Omastar', 'Machop', 'Onix', 'Zubat', 'Kabutops', 'Dugtrio', 'Vulpix'} \n",
      "\n",
      "True \n",
      "\n",
      "False \n",
      "\n",
      "False \n",
      "\n",
      "True \n",
      "\n"
     ]
    }
   ],
   "source": [
    "# Convert Brock's Pokédex to a set\n",
    "brock_pokedex_set = set(brock_pokedex)\n",
    "print(brock_pokedex_set,'\\n')\n",
    "\n",
    "# Check if Psyduck is in Ash's list and Brock's set\n",
    "print('Psyduck' in ash_pokedex,'\\n')\n",
    "print('Psyduck' in brock_pokedex_set,'\\n')\n",
    "\n",
    "# Check if Machop is in Ash's list and Brock's set\n",
    "print('Machop' in ash_pokedex,'\\n')\n",
    "print('Machop' in brock_pokedex_set,'\\n')"
   ]
  },
  {
   "cell_type": "code",
   "execution_count": 56,
   "id": "noted-miniature",
   "metadata": {},
   "outputs": [
    {
     "name": "stdout",
     "output_type": "stream",
     "text": [
      "22\n",
      "22\n",
      "True\n",
      "{'Psychic', 'Rock', 'Bug', 'Grass', 'Dark'}\n",
      "{1, 2, 3, 4, 5, 6}\n"
     ]
    }
   ],
   "source": [
    "# def\n",
    "def find_unique_items(data):\n",
    "    uniques = []\n",
    "\n",
    "    for item in data:\n",
    "        if item not in uniques:\n",
    "            uniques.append(item)\n",
    "\n",
    "    return uniques\n",
    "\n",
    "# Use find_unique_items() to collect unique Pokémon names\n",
    "uniq_names_func = find_unique_items(names)\n",
    "print(len(uniq_names_func))\n",
    "\n",
    "# Convert the names list to a set to collect unique Pokémon names\n",
    "uniq_names_set = set(names)\n",
    "print(len(uniq_names_set))\n",
    "\n",
    "# Check that both unique collections are equivalent\n",
    "print(sorted(uniq_names_func) == sorted(uniq_names_set))\n",
    "\n",
    "# Use the best approach to collect unique primary types and generations\n",
    "uniq_types = set(primary_types) \n",
    "uniq_gens = set(generations)\n",
    "print(uniq_types, uniq_gens, sep='\\n') "
   ]
  },
  {
   "cell_type": "markdown",
   "id": "demonstrated-integrity",
   "metadata": {},
   "source": [
    "CUIDADO com os Loops\n",
    "--\n",
    "\n",
    "Os loop são os ladrões de eficiência do seu código, embora ele seja inevitáveis em muitas etapas também é possivel reduzir a carga de memória solicitada por eles. Um dos exemplos é retirar calculos simples de dentro do loop.\n",
    "\n"
   ]
  },
  {
   "cell_type": "code",
   "execution_count": 3,
   "id": "italian-machine",
   "metadata": {},
   "outputs": [],
   "source": [
    "poke_names = ['Abomasnow', 'Abra', 'Absol', 'Accelgor', 'Aerodactyl', 'Aggron', 'Aipom', 'Alakazam', 'Alomomola', 'Altaria', 'Amaura', 'Ambipom', 'Amoonguss', 'Ampharos', 'Anorith', 'Arbok', 'Arcanine', 'Arceus', 'Archen', 'Archeops', 'Ariados', 'Armaldo', 'Aromatisse', 'Aron', 'Articuno', 'Audino', 'Aurorus', 'Avalugg', 'Axew', 'Azelf', 'Azumarill', 'Azurill', 'Bagon', 'Baltoy', 'Banette', 'Barbaracle', 'Barboach', 'Basculin', 'Bastiodon']\n",
    "\n",
    "poke_gens = [4, 1, 3, 5, 1, 3, 2, 1, 5, 3, 6, 4, 5, 2, 3, 1, 1, 4, 5, 5, 2, 3, 6, 3, 1, 5, 6, 6, 5, 4, 2, 3, 3, 3, 3, 6, 3, 5, 4, 2, 5, 3, 1, 5, 3, 2, 1, 6, 4, 4, 6, 5, 1, 3, 2, 5, 5, 4, 5, 6, 5, 3, 4, 4, 4, 4, 1, 4, 6, 4, 1, 3, 3, 3, 6,]\n",
    "\n",
    "poke_types = pokemon_types = ['Bug', 'Dark', 'Dragon', 'Electric', 'Fairy', 'Fighting', 'Fire', 'Flying', 'Ghost', 'Grass', 'Ground', 'Ice', 'Normal', 'Poison', 'Psychic', 'Rock', 'Steel', 'Water']"
   ]
  },
  {
   "cell_type": "markdown",
   "id": "bound-economy",
   "metadata": {},
   "source": [
    "Eliminando loops com built-in\n",
    "--"
   ]
  },
  {
   "cell_type": "code",
   "execution_count": 5,
   "id": "pretty-mapping",
   "metadata": {},
   "outputs": [
    {
     "name": "stdout",
     "output_type": "stream",
     "text": [
      "[('Bug', 'Dark'), ('Bug', 'Dragon'), ('Bug', 'Electric'), ('Bug', 'Fairy'), ('Bug', 'Fighting'), ('Bug', 'Fire'), ('Bug', 'Flying'), ('Bug', 'Ghost'), ('Bug', 'Grass'), ('Bug', 'Ground')] \n",
      "\n",
      "[('Bug', 'Dark'), ('Bug', 'Dragon'), ('Bug', 'Electric'), ('Bug', 'Fairy'), ('Bug', 'Fighting'), ('Bug', 'Fire'), ('Bug', 'Flying'), ('Bug', 'Ghost'), ('Bug', 'Grass'), ('Bug', 'Ground')] \n",
      "\n"
     ]
    }
   ],
   "source": [
    "# Nested for loop approach\n",
    "combos = []\n",
    "for x in poke_types:\n",
    "    for y in poke_types:\n",
    "        if x == y:\n",
    "            continue\n",
    "        if ((x,y) not in combos) & ((y,x) not in combos):\n",
    "            combos.append((x,y))\n",
    "print(combos[:10],'\\n')\n",
    "\n",
    "---------------------------------------------------------------------------------------------------\n",
    "\n",
    "# Built-in module approach\n",
    "from itertools import combinations\n",
    "combos2 = [*combinations(poke_types, 2)]\n",
    "\n",
    "print(combos2[:10],'\\n')"
   ]
  },
  {
   "cell_type": "markdown",
   "id": "unnecessary-lucas",
   "metadata": {},
   "source": [
    "Como escrever melhores loop\n",
    "--\n",
    "\n",
    "Para que você consiga escrever melhores loops é desejado que você saiba alguns topicos como:\n",
    "> - Entenda a diferença de cada loop\n",
    "> - Mova para fora do loop calculos\n",
    "> - utilize conversões holisticas fora do loop\n",
    "> - Ou seja, realize tudo que der fora do loop, e teste o que funcione, assim aumentara a sua eficiencia"
   ]
  },
  {
   "cell_type": "code",
   "execution_count": 71,
   "id": "champion-matthew",
   "metadata": {},
   "outputs": [
    {
     "name": "stdout",
     "output_type": "stream",
     "text": [
      "[[1, 'Bug', 'Dark'], [2, 'Bug', 'Dragon'], [3, 'Bug', 'Electric'], [4, 'Bug', 'Fairy'], [5, 'Bug', 'Fighting'], [6, 'Bug', 'Fire'], [7, 'Bug', 'Flying'], [8, 'Bug', 'Ghost'], [9, 'Bug', 'Grass'], [10, 'Bug', 'Ground']]\n"
     ]
    }
   ],
   "source": [
    "# Collect all possible pairs using combinations()\n",
    "possible_pairs = [*combinations(pokemon_types, 2)]\n",
    "\n",
    "# Create an empty list called enumerated_tuples\n",
    "enumerated_tuples = []\n",
    "\n",
    "# Append each enumerated_pair_tuple to the empty list above\n",
    "for i,pair in enumerate(possible_pairs, 1):\n",
    "    enumerated_pair_tuple = (i,) + pair\n",
    "    enumerated_tuples.append(enumerated_pair_tuple)\n",
    "\n",
    "# Convert all tuples in enumerated_tuples to a list\n",
    "enumerated_pairs = [*map(list, enumerated_tuples)]\n",
    "print(enumerated_pairs[:10])"
   ]
  },
  {
   "cell_type": "code",
   "execution_count": 68,
   "id": "brave-cleveland",
   "metadata": {},
   "outputs": [
    {
     "name": "stdout",
     "output_type": "stream",
     "text": [
      "('Milotic', 80.0, 0.5080442165505977)\n",
      "('Buizel', 60.0, -0.3172052722625559)\n",
      "('Frogadier', 131.0, 2.6124304130241396)\n",
      "('Frogadier', 131.0, 2.6124304130241396)\n"
     ]
    }
   ],
   "source": [
    "#define var\n",
    "hps =np.array([80.0, 60.0, 131.0, 62.0, 71.0, 109.0, 45.0, 53.0, 73.0,60.0, 37.0, 63.0, 59.0, 84.0, 25.0, 50.0, 98.0, 116.0, 29.0, 85.0, 43.0, 46.0, 46.0, 57.0, 94.0, 87.0, 70.0, 59.0, 68.0, 65.0, 89.0, 52.0])\n",
    "\n",
    "# Calculate the total HP avg and total HP standard deviation\n",
    "hp_avg = hps.mean()\n",
    "hp_std = hps.std()\n",
    "\n",
    "# Use NumPy to eliminate the previous for loop\n",
    "z_scores = (hps - hp_avg)/hp_std\n",
    "\n",
    "# Combine names, hps, and z_scores\n",
    "poke_zscores2 = [*zip(names, hps, z_scores)]\n",
    "print(*poke_zscores2[:3], sep='\\n')\n",
    "\n",
    "# Use list comprehension with the same logic as the highest_hp_pokemon code block\n",
    "highest_hp_pokemon2 = [(name, hp, zscore) for name,hp,zscore in poke_zscores2 if zscore > 2]\n",
    "print(*highest_hp_pokemon2, sep='\\n')"
   ]
  },
  {
   "cell_type": "markdown",
   "id": "continental-endorsement",
   "metadata": {},
   "source": [
    "---\n",
    "\n",
    "# TOPIC 4: otimização em pandas\n",
    "\n",
    "`Pandas` é uma biblioteca para análise de dados vinculada ao `python`. Esta biblioteca estrutura os dados com varias injestões de dados, muita usada por cientista de dados para manipulação dos dados.\n",
    "\n",
    "Mas, você saberria otimizar o uso deste?\n",
    "--\n",
    "\n",
    "É o que vamos mostrar neste tópico, onde abordaremos:\n",
    "> - iterações com `.interrow()`\n",
    "> - iterações com `.intertuple()`\n",
    "> - formas alternativas de usar os loops\n",
    "> - atigindo a ótima iteração "
   ]
  },
  {
   "cell_type": "markdown",
   "id": "conceptual-vienna",
   "metadata": {},
   "source": [
    "Para isso vamos iniciar um arquivo que iremos utilizar em todo este tópico:"
   ]
  },
  {
   "cell_type": "code",
   "execution_count": 7,
   "id": "recorded-tuning",
   "metadata": {},
   "outputs": [
    {
     "data": {
      "text/html": [
       "<div>\n",
       "<style scoped>\n",
       "    .dataframe tbody tr th:only-of-type {\n",
       "        vertical-align: middle;\n",
       "    }\n",
       "\n",
       "    .dataframe tbody tr th {\n",
       "        vertical-align: top;\n",
       "    }\n",
       "\n",
       "    .dataframe thead th {\n",
       "        text-align: right;\n",
       "    }\n",
       "</style>\n",
       "<table border=\"1\" class=\"dataframe\">\n",
       "  <thead>\n",
       "    <tr style=\"text-align: right;\">\n",
       "      <th></th>\n",
       "      <th>Team</th>\n",
       "      <th>League</th>\n",
       "      <th>Year</th>\n",
       "      <th>RS</th>\n",
       "      <th>RA</th>\n",
       "      <th>W</th>\n",
       "      <th>OBP</th>\n",
       "      <th>SLG</th>\n",
       "      <th>BA</th>\n",
       "      <th>Playoffs</th>\n",
       "      <th>RankSeason</th>\n",
       "      <th>RankPlayoffs</th>\n",
       "      <th>G</th>\n",
       "      <th>OOBP</th>\n",
       "      <th>OSLG</th>\n",
       "    </tr>\n",
       "  </thead>\n",
       "  <tbody>\n",
       "    <tr>\n",
       "      <th>0</th>\n",
       "      <td>ARI</td>\n",
       "      <td>NL</td>\n",
       "      <td>2012</td>\n",
       "      <td>734</td>\n",
       "      <td>688</td>\n",
       "      <td>81</td>\n",
       "      <td>0.328</td>\n",
       "      <td>0.418</td>\n",
       "      <td>0.259</td>\n",
       "      <td>0</td>\n",
       "      <td>NaN</td>\n",
       "      <td>NaN</td>\n",
       "      <td>162</td>\n",
       "      <td>0.317</td>\n",
       "      <td>0.415</td>\n",
       "    </tr>\n",
       "    <tr>\n",
       "      <th>1</th>\n",
       "      <td>ATL</td>\n",
       "      <td>NL</td>\n",
       "      <td>2012</td>\n",
       "      <td>700</td>\n",
       "      <td>600</td>\n",
       "      <td>94</td>\n",
       "      <td>0.320</td>\n",
       "      <td>0.389</td>\n",
       "      <td>0.247</td>\n",
       "      <td>1</td>\n",
       "      <td>4.0</td>\n",
       "      <td>5.0</td>\n",
       "      <td>162</td>\n",
       "      <td>0.306</td>\n",
       "      <td>0.378</td>\n",
       "    </tr>\n",
       "    <tr>\n",
       "      <th>2</th>\n",
       "      <td>BAL</td>\n",
       "      <td>AL</td>\n",
       "      <td>2012</td>\n",
       "      <td>712</td>\n",
       "      <td>705</td>\n",
       "      <td>93</td>\n",
       "      <td>0.311</td>\n",
       "      <td>0.417</td>\n",
       "      <td>0.247</td>\n",
       "      <td>1</td>\n",
       "      <td>5.0</td>\n",
       "      <td>4.0</td>\n",
       "      <td>162</td>\n",
       "      <td>0.315</td>\n",
       "      <td>0.403</td>\n",
       "    </tr>\n",
       "    <tr>\n",
       "      <th>3</th>\n",
       "      <td>BOS</td>\n",
       "      <td>AL</td>\n",
       "      <td>2012</td>\n",
       "      <td>734</td>\n",
       "      <td>806</td>\n",
       "      <td>69</td>\n",
       "      <td>0.315</td>\n",
       "      <td>0.415</td>\n",
       "      <td>0.260</td>\n",
       "      <td>0</td>\n",
       "      <td>NaN</td>\n",
       "      <td>NaN</td>\n",
       "      <td>162</td>\n",
       "      <td>0.331</td>\n",
       "      <td>0.428</td>\n",
       "    </tr>\n",
       "    <tr>\n",
       "      <th>4</th>\n",
       "      <td>CHC</td>\n",
       "      <td>NL</td>\n",
       "      <td>2012</td>\n",
       "      <td>613</td>\n",
       "      <td>759</td>\n",
       "      <td>61</td>\n",
       "      <td>0.302</td>\n",
       "      <td>0.378</td>\n",
       "      <td>0.240</td>\n",
       "      <td>0</td>\n",
       "      <td>NaN</td>\n",
       "      <td>NaN</td>\n",
       "      <td>162</td>\n",
       "      <td>0.335</td>\n",
       "      <td>0.424</td>\n",
       "    </tr>\n",
       "    <tr>\n",
       "      <th>...</th>\n",
       "      <td>...</td>\n",
       "      <td>...</td>\n",
       "      <td>...</td>\n",
       "      <td>...</td>\n",
       "      <td>...</td>\n",
       "      <td>...</td>\n",
       "      <td>...</td>\n",
       "      <td>...</td>\n",
       "      <td>...</td>\n",
       "      <td>...</td>\n",
       "      <td>...</td>\n",
       "      <td>...</td>\n",
       "      <td>...</td>\n",
       "      <td>...</td>\n",
       "      <td>...</td>\n",
       "    </tr>\n",
       "    <tr>\n",
       "      <th>1227</th>\n",
       "      <td>PHI</td>\n",
       "      <td>NL</td>\n",
       "      <td>1962</td>\n",
       "      <td>705</td>\n",
       "      <td>759</td>\n",
       "      <td>81</td>\n",
       "      <td>0.330</td>\n",
       "      <td>0.390</td>\n",
       "      <td>0.260</td>\n",
       "      <td>0</td>\n",
       "      <td>NaN</td>\n",
       "      <td>NaN</td>\n",
       "      <td>161</td>\n",
       "      <td>NaN</td>\n",
       "      <td>NaN</td>\n",
       "    </tr>\n",
       "    <tr>\n",
       "      <th>1228</th>\n",
       "      <td>PIT</td>\n",
       "      <td>NL</td>\n",
       "      <td>1962</td>\n",
       "      <td>706</td>\n",
       "      <td>626</td>\n",
       "      <td>93</td>\n",
       "      <td>0.321</td>\n",
       "      <td>0.394</td>\n",
       "      <td>0.268</td>\n",
       "      <td>0</td>\n",
       "      <td>NaN</td>\n",
       "      <td>NaN</td>\n",
       "      <td>161</td>\n",
       "      <td>NaN</td>\n",
       "      <td>NaN</td>\n",
       "    </tr>\n",
       "    <tr>\n",
       "      <th>1229</th>\n",
       "      <td>SFG</td>\n",
       "      <td>NL</td>\n",
       "      <td>1962</td>\n",
       "      <td>878</td>\n",
       "      <td>690</td>\n",
       "      <td>103</td>\n",
       "      <td>0.341</td>\n",
       "      <td>0.441</td>\n",
       "      <td>0.278</td>\n",
       "      <td>1</td>\n",
       "      <td>1.0</td>\n",
       "      <td>2.0</td>\n",
       "      <td>165</td>\n",
       "      <td>NaN</td>\n",
       "      <td>NaN</td>\n",
       "    </tr>\n",
       "    <tr>\n",
       "      <th>1230</th>\n",
       "      <td>STL</td>\n",
       "      <td>NL</td>\n",
       "      <td>1962</td>\n",
       "      <td>774</td>\n",
       "      <td>664</td>\n",
       "      <td>84</td>\n",
       "      <td>0.335</td>\n",
       "      <td>0.394</td>\n",
       "      <td>0.271</td>\n",
       "      <td>0</td>\n",
       "      <td>NaN</td>\n",
       "      <td>NaN</td>\n",
       "      <td>163</td>\n",
       "      <td>NaN</td>\n",
       "      <td>NaN</td>\n",
       "    </tr>\n",
       "    <tr>\n",
       "      <th>1231</th>\n",
       "      <td>WSA</td>\n",
       "      <td>AL</td>\n",
       "      <td>1962</td>\n",
       "      <td>599</td>\n",
       "      <td>716</td>\n",
       "      <td>60</td>\n",
       "      <td>0.308</td>\n",
       "      <td>0.373</td>\n",
       "      <td>0.250</td>\n",
       "      <td>0</td>\n",
       "      <td>NaN</td>\n",
       "      <td>NaN</td>\n",
       "      <td>162</td>\n",
       "      <td>NaN</td>\n",
       "      <td>NaN</td>\n",
       "    </tr>\n",
       "  </tbody>\n",
       "</table>\n",
       "<p>1232 rows × 15 columns</p>\n",
       "</div>"
      ],
      "text/plain": [
       "     Team League  Year   RS   RA    W    OBP    SLG     BA  Playoffs  \\\n",
       "0     ARI     NL  2012  734  688   81  0.328  0.418  0.259         0   \n",
       "1     ATL     NL  2012  700  600   94  0.320  0.389  0.247         1   \n",
       "2     BAL     AL  2012  712  705   93  0.311  0.417  0.247         1   \n",
       "3     BOS     AL  2012  734  806   69  0.315  0.415  0.260         0   \n",
       "4     CHC     NL  2012  613  759   61  0.302  0.378  0.240         0   \n",
       "...   ...    ...   ...  ...  ...  ...    ...    ...    ...       ...   \n",
       "1227  PHI     NL  1962  705  759   81  0.330  0.390  0.260         0   \n",
       "1228  PIT     NL  1962  706  626   93  0.321  0.394  0.268         0   \n",
       "1229  SFG     NL  1962  878  690  103  0.341  0.441  0.278         1   \n",
       "1230  STL     NL  1962  774  664   84  0.335  0.394  0.271         0   \n",
       "1231  WSA     AL  1962  599  716   60  0.308  0.373  0.250         0   \n",
       "\n",
       "      RankSeason  RankPlayoffs    G   OOBP   OSLG  \n",
       "0            NaN           NaN  162  0.317  0.415  \n",
       "1            4.0           5.0  162  0.306  0.378  \n",
       "2            5.0           4.0  162  0.315  0.403  \n",
       "3            NaN           NaN  162  0.331  0.428  \n",
       "4            NaN           NaN  162  0.335  0.424  \n",
       "...          ...           ...  ...    ...    ...  \n",
       "1227         NaN           NaN  161    NaN    NaN  \n",
       "1228         NaN           NaN  161    NaN    NaN  \n",
       "1229         1.0           2.0  165    NaN    NaN  \n",
       "1230         NaN           NaN  163    NaN    NaN  \n",
       "1231         NaN           NaN  162    NaN    NaN  \n",
       "\n",
       "[1232 rows x 15 columns]"
      ]
     },
     "execution_count": 7,
     "metadata": {},
     "output_type": "execute_result"
    }
   ],
   "source": [
    "import pandas as pd\n",
    "\n",
    "df =pd.read_csv('https://assets.datacamp.com/production/repositories/3581/datasets/779033fb8fb5021aee9ff46253980abcbc5851f3/baseball_stats.csv')\n",
    "df"
   ]
  },
  {
   "cell_type": "markdown",
   "id": "whole-buying",
   "metadata": {},
   "source": [
    "Começando pelo `.iterrows()`\n",
    "--\n",
    "O `.interrows()` é utilizado para retornar uma serie para cada linha, e não há a preservação de tipos entre linhas.\n",
    "----\n",
    "\n",
    "> Você nunca deve modificar algo sobre o qual está iterando. Não é garantido que funcione em todos os casos. Dependendo dos tipos de dados, o iterador retorna uma cópia e não uma visualização, e a gravação nele não terá efeito."
   ]
  },
  {
   "cell_type": "code",
   "execution_count": 21,
   "id": "affecting-commons",
   "metadata": {},
   "outputs": [
    {
     "data": {
      "text/plain": [
       "0    0.50\n",
       "1    0.58\n",
       "2    0.57\n",
       "3    0.43\n",
       "4    0.38\n",
       "Name: WP, dtype: float64"
      ]
     },
     "execution_count": 21,
     "metadata": {},
     "output_type": "execute_result"
    }
   ],
   "source": [
    "import numpy as np\n",
    "\n",
    "# otimizando o calculo do percentual\n",
    "def calc_win_perc(wins, games_played):\n",
    "    win_perc = wins / games_played\n",
    "    return np.round(win_perc,2)\n",
    "\n",
    "#  calculando o valor de percentual de vitorias\n",
    "win_perc_list = []\n",
    "for i,row in df.iterrows():\n",
    "    wins = row['W']\n",
    "    games_played = row['G']\n",
    "    win_perc = calc_win_perc(wins, games_played)\n",
    "    win_perc_list.append(win_perc)\n",
    "\n",
    "df['WP'] = win_perc_list\n",
    "\n",
    "df.WP.head()"
   ]
  },
  {
   "cell_type": "markdown",
   "id": "standing-anatomy",
   "metadata": {},
   "source": [
    "---\n",
    "`.intertuples()`\n",
    "--\n",
    "\n",
    "Para uso do `.intertuples()` garante a preservação dos tipos das variaveis e é ainda mais rapido que o `.interrows()`.\n",
    "---\n",
    "\n",
    "> Os nomes das colunas serão renomeados para nomes posicionais se forem identificadores Python inválidos, repetidos ou iniciados com um sublinhado. \n"
   ]
  },
  {
   "cell_type": "code",
   "execution_count": null,
   "id": "excited-tension",
   "metadata": {},
   "outputs": [],
   "source": [
    "# Loop over the DaaFrame and print each row\n",
    "for row in df.itertuples():\n",
    "    print(row)"
   ]
  },
  {
   "cell_type": "code",
   "execution_count": null,
   "id": "better-strength",
   "metadata": {},
   "outputs": [],
   "source": [
    "# Loop over the DataFrame and print each row's Index, Year and Wins (W)\n",
    "for row in df.itertuples():\n",
    "    i = row.Index\n",
    "    year = row.Year\n",
    "    wins = row.W\n",
    "    print(i, year, wins)\n",
    "    \n",
    "# Check if rangers made Playoffs (1 means yes; 0 means no)\n",
    "if row.Playoffs == 1:\n",
    "    print(i, year, wins)"
   ]
  },
  {
   "cell_type": "markdown",
   "id": "central-editing",
   "metadata": {},
   "source": [
    "`.items()`\n",
    "--\n",
    "Também existe a função `.items()` que itera sobre as colunas DataFrame, retornando uma tupla com o nome da coluna e o conteúdo como uma série.\n"
   ]
  },
  {
   "cell_type": "markdown",
   "id": "rough-humidity",
   "metadata": {},
   "source": [
    "Formas alternativas de realizar o looping no pandas\n",
    "--\n",
    "\n",
    "Como melhor alternativa temos o metodo `.apply()` que faz papel similar ao metodo `.map()`.\n",
    "--\n",
    "\n",
    "`DataFrame.apply( func , axis = 0 , raw = False , result_type = None , args = () , ** kwds)`\n",
    "\n",
    "Os objetos passados para a função são objetos Series cujo índice é o índice do DataFrame ( `axis=0`) ou as colunas do DataFrame ( `axis=1`). Por default ( `result_type=None`), o tipo de retorno final é inferido do tipo de retorno da função aplicada. Caso contrário, depende do argumento `result_type` ."
   ]
  },
  {
   "cell_type": "code",
   "execution_count": 33,
   "id": "cooperative-moses",
   "metadata": {},
   "outputs": [],
   "source": [
    "def calc_run_diff(runs_scored, runs_allowed):\n",
    "    run_diff = runs_scored - runs_allowed\n",
    "    return run_diff"
   ]
  },
  {
   "cell_type": "code",
   "execution_count": 36,
   "id": "dried-catch",
   "metadata": {},
   "outputs": [
    {
     "name": "stdout",
     "output_type": "stream",
     "text": [
      "18.6 ms ± 584 µs per loop (mean ± std. dev. of 7 runs, 10 loops each)\n"
     ]
    }
   ],
   "source": [
    "%%timeit\n",
    "run_diffs_apply =df.apply(\n",
    "            lambda row: calc_run_diff(row['RS'], row['RA']),\n",
    "            axis=1)\n",
    "df['RD'] = run_diffs_apply"
   ]
  },
  {
   "cell_type": "markdown",
   "id": "amber-administration",
   "metadata": {},
   "source": [
    "Assim finalizamos os aprendizados referetens a otimização dos códigos referenste a otimização de códigos em python.\n",
    "--"
   ]
  }
 ],
 "metadata": {
  "kernelspec": {
   "display_name": "Python 3",
   "language": "python",
   "name": "python3"
  },
  "language_info": {
   "codemirror_mode": {
    "name": "ipython",
    "version": 3
   },
   "file_extension": ".py",
   "mimetype": "text/x-python",
   "name": "python",
   "nbconvert_exporter": "python",
   "pygments_lexer": "ipython3",
   "version": "3.7.4"
  }
 },
 "nbformat": 4,
 "nbformat_minor": 5
}
